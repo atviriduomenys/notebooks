{
 "cells": [
  {
   "cell_type": "code",
   "execution_count": 1,
   "id": "6a7ea584-b907-4920-9fdf-dcdcf9001d6e",
   "metadata": {},
   "outputs": [],
   "source": [
    "import pandas as pd\n",
    "import matplotlib.pyplot as plt\n",
    "import matplotlib as mpl\n",
    "import seaborn as sns\n",
    "import numpy as np\n",
    "from sklearn.decomposition import PCA\n",
    "from sklearn.preprocessing import StandardScaler\n",
    "%matplotlib inline"
   ]
  },
  {
   "cell_type": "markdown",
   "id": "b703a6aa-65b8-43c7-9dbc-5fcea1d345c4",
   "metadata": {
    "tags": []
   },
   "source": [
    "# IŠLAIDOS"
   ]
  },
  {
   "cell_type": "markdown",
   "id": "7b02762e-bf39-4664-a16d-3d567d004f5a",
   "metadata": {},
   "source": [
    "Agreguoti duomenys iš juridinių asmenų pateiktos informacijos apie gyventojų patirtas įmokas ir gyventojų deklaruotas išlaidas,\n",
    "kuriomis gali būti mažinamos gyventojų apmokestinamosios pajamos. \n",
    "https://data.gov.lt/dataset/gyventoju-patirtos-islaidos"
   ]
  },
  {
   "cell_type": "code",
   "execution_count": 2,
   "id": "46be3557-1d27-492a-a766-92029c71eb03",
   "metadata": {},
   "outputs": [],
   "source": [
    "islaidos=pd.read_csv(\"data/datasets/gov/vmi/gyventoju_islaidos/GyventojuIslaidos.csv\")"
   ]
  },
  {
   "cell_type": "markdown",
   "id": "e608e624-d2cd-41b4-aef7-4d95b1a6cbe1",
   "metadata": {
    "tags": []
   },
   "source": [
    "# KLAUSIMAI"
   ]
  },
  {
   "cell_type": "code",
   "execution_count": null,
   "id": "58391c2b-575c-4da2-9705-28e625960152",
   "metadata": {},
   "outputs": [],
   "source": [
    "# Kodėl daug nulinių reikšmių\n",
    "# Pataisyti brandos lygiai (visi)\n",
    "# Kodėl yra maksimali riba 600000"
   ]
  },
  {
   "cell_type": "markdown",
   "id": "51411cd5-df64-410f-a721-fa00fd2d8480",
   "metadata": {
    "tags": []
   },
   "source": [
    "# Duomenų apžvalga"
   ]
  },
  {
   "cell_type": "code",
   "execution_count": 3,
   "id": "bea10827-ca07-44a6-8b17-2a2c62df70f9",
   "metadata": {},
   "outputs": [
    {
     "data": {
      "text/html": [
       "<div>\n",
       "<style scoped>\n",
       "    .dataframe tbody tr th:only-of-type {\n",
       "        vertical-align: middle;\n",
       "    }\n",
       "\n",
       "    .dataframe tbody tr th {\n",
       "        vertical-align: top;\n",
       "    }\n",
       "\n",
       "    .dataframe thead th {\n",
       "        text-align: right;\n",
       "    }\n",
       "</style>\n",
       "<table border=\"1\" class=\"dataframe\">\n",
       "  <thead>\n",
       "    <tr style=\"text-align: right;\">\n",
       "      <th></th>\n",
       "      <th>_type</th>\n",
       "      <th>_id</th>\n",
       "      <th>_revision</th>\n",
       "      <th>metai</th>\n",
       "      <th>sav_kodas</th>\n",
       "      <th>sav_pavadinimas</th>\n",
       "      <th>mm_kodas</th>\n",
       "      <th>ir_kodas</th>\n",
       "      <th>pavadinimas</th>\n",
       "      <th>suma</th>\n",
       "    </tr>\n",
       "  </thead>\n",
       "  <tbody>\n",
       "    <tr>\n",
       "      <th>0</th>\n",
       "      <td>datasets/gov/vmi/gyventoju_islaidos/GyventojuIslaidos</td>\n",
       "      <td>f44f4a67-e4ae-433e-a971-fc734cdf082a</td>\n",
       "      <td>a520537c-6bea-4251-a947-7a65a60e3c0f</td>\n",
       "      <td>2020</td>\n",
       "      <td>19</td>\n",
       "      <td>Kauno m. sav.</td>\n",
       "      <td>db9f2c139efdf133098956d9f057ebce1c6e078eb4fcc22ec8a9d12220c0368b</td>\n",
       "      <td>2</td>\n",
       "      <td>Įmokos už aukštąjį ar profesinį mokymąsi.</td>\n",
       "      <td>780.0</td>\n",
       "    </tr>\n",
       "    <tr>\n",
       "      <th>1</th>\n",
       "      <td>datasets/gov/vmi/gyventoju_islaidos/GyventojuIslaidos</td>\n",
       "      <td>879409f4-a478-43a9-997a-d185169f230b</td>\n",
       "      <td>4113b4e9-4f76-426c-8a44-0a91f1baf896</td>\n",
       "      <td>2020</td>\n",
       "      <td>13</td>\n",
       "      <td>Vilniaus m. sav.</td>\n",
       "      <td>3cdc64e4d6a7dce93ef20a78335786c36b2b19215cb7d0547d0ae02b304fdc90</td>\n",
       "      <td>1</td>\n",
       "      <td>Gyvybės draudimo įmokos.</td>\n",
       "      <td>725.0</td>\n",
       "    </tr>\n",
       "    <tr>\n",
       "      <th>2</th>\n",
       "      <td>datasets/gov/vmi/gyventoju_islaidos/GyventojuIslaidos</td>\n",
       "      <td>1a2d1af6-da46-4c4f-8f12-1787b41d44d4</td>\n",
       "      <td>b134333d-1335-4421-af33-d397dd3dbc3d</td>\n",
       "      <td>2020</td>\n",
       "      <td>13</td>\n",
       "      <td>Vilniaus m. sav.</td>\n",
       "      <td>8d9ad45da178a723551c78490ab29ba7d3e7b0c6c995d0d34876073dbaf0e534</td>\n",
       "      <td>6</td>\n",
       "      <td>Pastatų, statinių remonto, apdailos (išskyrus renovaciją) darbų išlaidos.</td>\n",
       "      <td>45.0</td>\n",
       "    </tr>\n",
       "    <tr>\n",
       "      <th>3</th>\n",
       "      <td>datasets/gov/vmi/gyventoju_islaidos/GyventojuIslaidos</td>\n",
       "      <td>dc7a74a7-8328-415d-bf3b-ac92ee0e851d</td>\n",
       "      <td>ba3a87c3-3d0b-4ca2-b365-c45e70c2cb09</td>\n",
       "      <td>2020</td>\n",
       "      <td>13</td>\n",
       "      <td>Vilniaus m. sav.</td>\n",
       "      <td>c17883ac6b4dae58af45cead71157f6ddcdcf4bf92facac32626a7b238b5a410</td>\n",
       "      <td>7</td>\n",
       "      <td>Lengvųjų automobilių remonto paslaugų išlaidos (neįskaitant atsarginių detalių, eksploatacinių medžiagų kainos).</td>\n",
       "      <td>300.0</td>\n",
       "    </tr>\n",
       "    <tr>\n",
       "      <th>4</th>\n",
       "      <td>datasets/gov/vmi/gyventoju_islaidos/GyventojuIslaidos</td>\n",
       "      <td>e70b98aa-fab7-4893-a159-d549e764de3d</td>\n",
       "      <td>11313b1c-88e6-42c0-989b-aa619314ee5c</td>\n",
       "      <td>2020</td>\n",
       "      <td>13</td>\n",
       "      <td>Vilniaus m. sav.</td>\n",
       "      <td>448c8fe614853c1ddc5ebd62c607df418d4855aba089681075bddfe3b12b366b</td>\n",
       "      <td>1</td>\n",
       "      <td>Gyvybės draudimo įmokos.</td>\n",
       "      <td>480.0</td>\n",
       "    </tr>\n",
       "  </tbody>\n",
       "</table>\n",
       "</div>"
      ],
      "text/plain": [
       "                                                   _type  \\\n",
       "0  datasets/gov/vmi/gyventoju_islaidos/GyventojuIslaidos   \n",
       "1  datasets/gov/vmi/gyventoju_islaidos/GyventojuIslaidos   \n",
       "2  datasets/gov/vmi/gyventoju_islaidos/GyventojuIslaidos   \n",
       "3  datasets/gov/vmi/gyventoju_islaidos/GyventojuIslaidos   \n",
       "4  datasets/gov/vmi/gyventoju_islaidos/GyventojuIslaidos   \n",
       "\n",
       "                                    _id                             _revision  \\\n",
       "0  f44f4a67-e4ae-433e-a971-fc734cdf082a  a520537c-6bea-4251-a947-7a65a60e3c0f   \n",
       "1  879409f4-a478-43a9-997a-d185169f230b  4113b4e9-4f76-426c-8a44-0a91f1baf896   \n",
       "2  1a2d1af6-da46-4c4f-8f12-1787b41d44d4  b134333d-1335-4421-af33-d397dd3dbc3d   \n",
       "3  dc7a74a7-8328-415d-bf3b-ac92ee0e851d  ba3a87c3-3d0b-4ca2-b365-c45e70c2cb09   \n",
       "4  e70b98aa-fab7-4893-a159-d549e764de3d  11313b1c-88e6-42c0-989b-aa619314ee5c   \n",
       "\n",
       "   metai  sav_kodas   sav_pavadinimas  \\\n",
       "0   2020         19     Kauno m. sav.   \n",
       "1   2020         13  Vilniaus m. sav.   \n",
       "2   2020         13  Vilniaus m. sav.   \n",
       "3   2020         13  Vilniaus m. sav.   \n",
       "4   2020         13  Vilniaus m. sav.   \n",
       "\n",
       "                                                           mm_kodas  ir_kodas  \\\n",
       "0  db9f2c139efdf133098956d9f057ebce1c6e078eb4fcc22ec8a9d12220c0368b         2   \n",
       "1  3cdc64e4d6a7dce93ef20a78335786c36b2b19215cb7d0547d0ae02b304fdc90         1   \n",
       "2  8d9ad45da178a723551c78490ab29ba7d3e7b0c6c995d0d34876073dbaf0e534         6   \n",
       "3  c17883ac6b4dae58af45cead71157f6ddcdcf4bf92facac32626a7b238b5a410         7   \n",
       "4  448c8fe614853c1ddc5ebd62c607df418d4855aba089681075bddfe3b12b366b         1   \n",
       "\n",
       "                                                                                                        pavadinimas  \\\n",
       "0                                                                         Įmokos už aukštąjį ar profesinį mokymąsi.   \n",
       "1                                                                                          Gyvybės draudimo įmokos.   \n",
       "2                                         Pastatų, statinių remonto, apdailos (išskyrus renovaciją) darbų išlaidos.   \n",
       "3  Lengvųjų automobilių remonto paslaugų išlaidos (neįskaitant atsarginių detalių, eksploatacinių medžiagų kainos).   \n",
       "4                                                                                          Gyvybės draudimo įmokos.   \n",
       "\n",
       "    suma  \n",
       "0  780.0  \n",
       "1  725.0  \n",
       "2   45.0  \n",
       "3  300.0  \n",
       "4  480.0  "
      ]
     },
     "execution_count": 3,
     "metadata": {},
     "output_type": "execute_result"
    }
   ],
   "source": [
    "pd.options.display.max_colwidth = 500\n",
    "islaidos.head(5)"
   ]
  },
  {
   "cell_type": "markdown",
   "id": "c1f69de8-7def-45b1-87d9-19369cf9bdd3",
   "metadata": {},
   "source": [
    "Kai kurie Dtype neatitinka tipo nurodyto struktūros apraše. Pvz: sav_kodas, "
   ]
  },
  {
   "cell_type": "code",
   "execution_count": 4,
   "id": "126ddcf7-b5b9-43ba-af7a-d16c01816c4e",
   "metadata": {},
   "outputs": [
    {
     "name": "stdout",
     "output_type": "stream",
     "text": [
      "<class 'pandas.core.frame.DataFrame'>\n",
      "RangeIndex: 438262 entries, 0 to 438261\n",
      "Data columns (total 10 columns):\n",
      " #   Column           Non-Null Count   Dtype  \n",
      "---  ------           --------------   -----  \n",
      " 0   _type            438262 non-null  object \n",
      " 1   _id              438262 non-null  object \n",
      " 2   _revision        438262 non-null  object \n",
      " 3   metai            438262 non-null  int64  \n",
      " 4   sav_kodas        438262 non-null  int64  \n",
      " 5   sav_pavadinimas  438262 non-null  object \n",
      " 6   mm_kodas         438262 non-null  object \n",
      " 7   ir_kodas         438262 non-null  int64  \n",
      " 8   pavadinimas      438262 non-null  object \n",
      " 9   suma             438262 non-null  float64\n",
      "dtypes: float64(1), int64(3), object(6)\n",
      "memory usage: 33.4+ MB\n"
     ]
    }
   ],
   "source": [
    "islaidos.info() "
   ]
  },
  {
   "cell_type": "code",
   "execution_count": 5,
   "id": "c8d470e5-bad9-4efd-a7ae-62b359c3e144",
   "metadata": {},
   "outputs": [
    {
     "data": {
      "text/plain": [
       "_type                   1\n",
       "_id                438262\n",
       "_revision          438262\n",
       "metai                   1\n",
       "sav_kodas              60\n",
       "sav_pavadinimas        60\n",
       "mm_kodas           384280\n",
       "ir_kodas                9\n",
       "pavadinimas             9\n",
       "suma                 5943\n",
       "dtype: int64"
      ]
     },
     "execution_count": 5,
     "metadata": {},
     "output_type": "execute_result"
    }
   ],
   "source": [
    "islaidos.nunique()"
   ]
  },
  {
   "cell_type": "markdown",
   "id": "a4103786-ea6c-4e7e-8738-6bdf7dbb12ba",
   "metadata": {
    "tags": []
   },
   "source": [
    "# Išlaidų rūšys pagal populiarumą"
   ]
  },
  {
   "cell_type": "markdown",
   "id": "5551ad86-a26a-496c-9eae-2161addb6694",
   "metadata": {},
   "source": [
    "Brėžiame diagramą, kuri vaizduoja kiekvienos išlaidų rūšies dažnį šiuose duomenyse."
   ]
  },
  {
   "cell_type": "code",
   "execution_count": 18,
   "id": "92f76d74-3ce8-426e-966d-2d75e971b1fe",
   "metadata": {},
   "outputs": [
    {
     "data": {
      "text/plain": [
       "<matplotlib.legend.Legend at 0x235d32f4bb0>"
      ]
     },
     "execution_count": 18,
     "metadata": {},
     "output_type": "execute_result"
    },
    {
     "data": {
      "image/png": "[encoded data removed]",
      "text/plain": [
       "<Figure size 1440x720 with 1 Axes>"
      ]
     },
     "metadata": {
      "needs_background": "light"
     },
     "output_type": "display_data"
    }
   ],
   "source": [
    "mpl.rc('figure', figsize=(20,10))\n",
    "islaidos_dazniai=islaidos.value_counts(['ir_kodas','pavadinimas']).sort_values(ascending = False).to_frame()\n",
    "islaidos_dazniai.plot.barh().legend(labels=['Dažnis'])"
   ]
  },
  {
   "cell_type": "markdown",
   "id": "53addd41-576f-4be4-b471-ec290f249453",
   "metadata": {},
   "source": [
    "Diagramos matome, kad tarp išlaidų rūšių, kuriomis gali būti mažinamos gyventojų apmokestinamosios pajamos, akivaizdžiai pirmauja gyvybės draudimo įmokos."
   ]
  },
  {
   "cell_type": "markdown",
   "id": "e06faa82-e400-431c-9383-6a3217cf3c21",
   "metadata": {},
   "source": [
    "Taip pat galime pažiūrėt, kaip bendrai yra pasiskirstę visos išlaidų rūšys."
   ]
  },
  {
   "cell_type": "code",
   "execution_count": 7,
   "id": "177f6868-2b94-4cd6-9bcd-fd6bfbcd9466",
   "metadata": {},
   "outputs": [
    {
     "data": {
      "image/png": "[encoded data removed]",
      "text/plain": [
       "<Figure size 1440x720 with 1 Axes>"
      ]
     },
     "metadata": {
      "needs_background": "light"
     },
     "output_type": "display_data"
    }
   ],
   "source": [
    "vienas = islaidos.set_index(['_id','pavadinimas'])['suma'].unstack() #.plot.box(logy = True)\n",
    "fig, ax= plt.subplots(figsize=(20, 10))\n",
    "ax.set_xscale('log')\n",
    "g = sns.boxplot(data=vienas , palette='rainbow', orient=\"h\", ax=ax)\n",
    "plt.tight_layout()"
   ]
  },
  {
   "cell_type": "markdown",
   "id": "13f27330-14ea-4781-8f6a-f7faf5768428",
   "metadata": {},
   "source": [
    "Iš boxplot diagramų matome, kad \"Gyvybės draudimo įmokos\" turi labai daug išsiskiriančių reikšmių. Kyla klausimas dėl 60000 ribos duomenyse. Taip pat matome, kad didžiausią medianą turi \"Pastatų, statinių remonto, apdailos (išskyrus renovaciją) darbų išlaidos, o labiausiai svyruojančios išlaidų sumos yra dėl \"Būsto kredito, suteikto iki 2008-12-31, palūkanos\" ir \"Nepilnamečių (iki 18 metų) vaikų (įvaikių, globotinių, kuriems nustatyta nuolatinė globa šeimoje) priežiūros paslaugų išlaidos.\""
   ]
  },
  {
   "cell_type": "code",
   "execution_count": 8,
   "id": "aa9faa2c-25d3-4d39-b615-0264785cdad5",
   "metadata": {},
   "outputs": [
    {
     "data": {
      "text/plain": [
       "'62.331208272677074'"
      ]
     },
     "execution_count": 8,
     "metadata": {},
     "output_type": "execute_result"
    }
   ],
   "source": [
    "rūšis_islaidos = islaidos.loc[islaidos['pavadinimas'] == 'Gyvybės draudimo įmokos.']\n",
    "count_row_visos = islaidos.shape[0] \n",
    "count_row_gd = rūšis_islaidos.shape[0]\n",
    "def percentage(part, whole):\n",
    " Percentage = 100 * float(part)/float(whole)\n",
    " return str(Percentage)\n",
    "percentage(count_row_gd, count_row_visos)"
   ]
  },
  {
   "cell_type": "markdown",
   "id": "ba6ff6b5-80fc-47fa-a1f6-92abcc676e8e",
   "metadata": {},
   "source": [
    "Skaičiuojant procentinę dalį pastebime, kad \"Gyvybės draudimo įmokos\" sudaro net 62 % visų išlaidų rūšių, kuriomis gali būti mažinamos gyventojų apmokestinamosios pajamos"
   ]
  },
  {
   "cell_type": "markdown",
   "id": "b56a4034-37a9-48be-bcd8-7baea86f492b",
   "metadata": {},
   "source": [
    "Brėžiame diagramą, kuri vaizduoja \"Gyvybės draudimo įmokos\" sumas ir jų dažnius."
   ]
  },
  {
   "cell_type": "code",
   "execution_count": 12,
   "id": "13d93ecb-c17d-4fb7-9214-c3bc26bcefc6",
   "metadata": {},
   "outputs": [
    {
     "data": {
      "text/plain": [
       "<AxesSubplot:ylabel='Frequency'>"
      ]
     },
     "execution_count": 12,
     "metadata": {},
     "output_type": "execute_result"
    },
    {
     "data": {
      "image/png": "[encoded data removed]",
      "text/plain": [
       "<Figure size 1440x720 with 1 Axes>"
      ]
     },
     "metadata": {
      "needs_background": "light"
     },
     "output_type": "display_data"
    }
   ],
   "source": [
    "mpl.rc('figure', figsize=(20,10))\n",
    "rūšis_islaidos['suma'].plot.hist(bins = 100, logy = True, color='y', grid = True)"
   ]
  },
  {
   "cell_type": "markdown",
   "id": "f43d0c4f-dfa8-4950-b32f-96982b2dcb23",
   "metadata": {},
   "source": [
    "Pastebime aiškiai išsiskiriančias reikšmes - pavieniai atvejai, kuomet \"Gyvybės draudimo įmokos\" sumos siekia 100000 ar net 600000."
   ]
  },
  {
   "cell_type": "code",
   "execution_count": 174,
   "id": "7d2ca189-27de-4da7-bab2-4041c97d3dea",
   "metadata": {},
   "outputs": [
    {
     "data": {
      "text/plain": [
       "'1.0000951774326985'"
      ]
     },
     "execution_count": 174,
     "metadata": {},
     "output_type": "execute_result"
    }
   ],
   "source": [
    "islaidos_gyv_draud = islaidos.loc[islaidos['pavadinimas'] == 'Gyvybės draudimo įmokos.']\n",
    "count_row = islaidos_gyv_draud.shape[0]\n",
    "isl = islaidos_gyv_draud['suma'].nlargest(2732).to_frame()\n",
    "m_isl = islaidos_gyv_draud['suma'].nsmallest(270442).to_frame()\n",
    "count_row_visos = islaidos_gyv_draud.shape[0] \n",
    "count_row_gd = isl.shape[0]\n",
    "def percentage(part, whole):\n",
    " Percentage = 100 * float(part)/float(whole)\n",
    " return str(Percentage)\n",
    "percentage(count_row_gd, count_row_visos)"
   ]
  },
  {
   "cell_type": "markdown",
   "id": "bf235860-efc4-4387-b6b8-337ca16218bc",
   "metadata": {},
   "source": [
    "Galime patikrinti pavyzdžiui kokią dalį iš visos \"Gyvybės draudimo įmokos\" išlaidų sumos sudaro 1 % daugiausiai sumokančių žmonių."
   ]
  },
  {
   "cell_type": "code",
   "execution_count": 175,
   "id": "c2e20db4-4c1f-4826-8b62-85603b3fb83f",
   "metadata": {},
   "outputs": [
    {
     "data": {
      "text/plain": [
       "'8.71654039014792'"
      ]
     },
     "execution_count": 175,
     "metadata": {},
     "output_type": "execute_result"
    }
   ],
   "source": [
    "islaidos_all = islaidos_gyv_draud['suma'].sum()\n",
    "islaidos_isl = isl['suma'].sum()\n",
    "islaidos_m_isl = m_isl['suma'].sum()\n",
    "count_row_visos = islaidos_all \n",
    "count_row_gd = islaidos_isl\n",
    "def percentage(part, whole):\n",
    " Percentage = 100 * float(part)/float(whole)\n",
    " return str(Percentage)\n",
    "percentage(count_row_gd, count_row_visos)"
   ]
  },
  {
   "cell_type": "markdown",
   "id": "647215a0-8a64-44e7-81ca-a47f7d5be397",
   "metadata": {},
   "source": [
    "Matome, kad 1 % didžiausias įmokas sumokančių mokesčių mokėtojų išleidžiamos sumos gyvybės draudimui sudaro beveik 9 % visos šios rūšies išlaidų sumos."
   ]
  },
  {
   "cell_type": "markdown",
   "id": "1c86f2ad-4beb-4fcd-9fe0-3bb1f8ee9746",
   "metadata": {},
   "source": [
    "# Vilniaus miesto ir Neringos savivaldybių išlaidų palyginimas"
   ]
  },
  {
   "cell_type": "markdown",
   "id": "b00bf352-17ef-4e20-8408-aab330998dca",
   "metadata": {},
   "source": [
    "Norėdami palyginti savivaldybes tarpusavyje, pirmiausia turime jas normalizuoti pagal gyventojų skaičių. Tam nusiskaitome duomenis iš gyventojų registro apie Lietuvos gyventojų amžių ir lytį pagal savivaldybes"
   ]
  },
  {
   "cell_type": "code",
   "execution_count": 31,
   "id": "6c5e8668-715a-4d9c-9941-3bd23d707723",
   "metadata": {},
   "outputs": [],
   "source": [
    "rc = pd.read_csv(\"data/datasets/gov/rc/gr/01_gr_open_amzius_lytis_pilietybes_sav_r1.csv\")"
   ]
  },
  {
   "cell_type": "markdown",
   "id": "6a6be0a8-cc2c-4661-a09a-6e8eadd63650",
   "metadata": {},
   "source": [
    "Gyventojų registro (GR) duomenys apie Lietuvos Respublikos teritorijoje įregistruotus fizinius asmenis. GR duomenys apie Lietuvos gyventojų amžių ir lytį pagal savivaldybes. Duomenų geografinė imtis — visa šalies teritorija. Brandos lygis — III. Atnaujinimo dažnumas — kas 12 mėn. Duomenų formatas — CSV. Licencija — CC BY 4.0. Atvėrimo data — 2022-01-14\n",
    "https://www.registrucentras.lt/p/1539\n",
    "https://data.gov.lt/dataset/gyventoju-registro-duomenys-apie-lietuvos-gyventoju-amziu-ir-lyti-pagal-savivaldybes"
   ]
  },
  {
   "cell_type": "code",
   "execution_count": 195,
   "id": "56ab21ed-ccbe-4802-8be2-9cdcb6895470",
   "metadata": {},
   "outputs": [],
   "source": [
    "# islaidos_sav=islaidos.groupby(['sav_kodas', 'sav_pavadinimas'])['suma'].sum().sort_values(ascending = False)\n",
    "# islaidos_sav.head(10)"
   ]
  },
  {
   "cell_type": "code",
   "execution_count": 89,
   "id": "d8fa9391-cea3-4c57-a688-1f13958d4045",
   "metadata": {},
   "outputs": [
    {
     "data": {
      "text/html": [
       "<div>\n",
       "<style scoped>\n",
       "    .dataframe tbody tr th:only-of-type {\n",
       "        vertical-align: middle;\n",
       "    }\n",
       "\n",
       "    .dataframe tbody tr th {\n",
       "        vertical-align: top;\n",
       "    }\n",
       "\n",
       "    .dataframe thead th {\n",
       "        text-align: right;\n",
       "    }\n",
       "</style>\n",
       "<table border=\"1\" class=\"dataframe\">\n",
       "  <thead>\n",
       "    <tr style=\"text-align: right;\">\n",
       "      <th></th>\n",
       "      <th>nr</th>\n",
       "      <th>fiz_asm_lyt</th>\n",
       "      <th>fiz_asm_amzius</th>\n",
       "      <th>fiz_asm_pilietybe</th>\n",
       "      <th>deklarav_metai</th>\n",
       "      <th>deklarav_ketvirtis</th>\n",
       "      <th>sav_kodas</th>\n",
       "      <th>sav_pavadinimas</th>\n",
       "      <th>data_formav</th>\n",
       "    </tr>\n",
       "  </thead>\n",
       "  <tbody>\n",
       "    <tr>\n",
       "      <th>0</th>\n",
       "      <td>1</td>\n",
       "      <td>V</td>\n",
       "      <td>55-64</td>\n",
       "      <td>Lietuvos</td>\n",
       "      <td>1981.0</td>\n",
       "      <td>K4</td>\n",
       "      <td>21</td>\n",
       "      <td>Klaipėdos m. sav.</td>\n",
       "      <td>2022-02-08</td>\n",
       "    </tr>\n",
       "    <tr>\n",
       "      <th>1</th>\n",
       "      <td>2</td>\n",
       "      <td>V</td>\n",
       "      <td>55-64</td>\n",
       "      <td>Lietuvos</td>\n",
       "      <td>2014.0</td>\n",
       "      <td>K1</td>\n",
       "      <td>75</td>\n",
       "      <td>Skuodo r. sav.</td>\n",
       "      <td>2022-02-08</td>\n",
       "    </tr>\n",
       "    <tr>\n",
       "      <th>2</th>\n",
       "      <td>3</td>\n",
       "      <td>V</td>\n",
       "      <td>35-44</td>\n",
       "      <td>Lietuvos</td>\n",
       "      <td>2018.0</td>\n",
       "      <td>K1</td>\n",
       "      <td>86</td>\n",
       "      <td>Švenčionių r. sav.</td>\n",
       "      <td>2022-02-08</td>\n",
       "    </tr>\n",
       "    <tr>\n",
       "      <th>3</th>\n",
       "      <td>4</td>\n",
       "      <td>M</td>\n",
       "      <td>35-44</td>\n",
       "      <td>Lietuvos</td>\n",
       "      <td>2007.0</td>\n",
       "      <td>K3</td>\n",
       "      <td>19</td>\n",
       "      <td>Kauno m. sav.</td>\n",
       "      <td>2022-02-08</td>\n",
       "    </tr>\n",
       "    <tr>\n",
       "      <th>4</th>\n",
       "      <td>5</td>\n",
       "      <td>M</td>\n",
       "      <td>65-84</td>\n",
       "      <td>Lietuvos</td>\n",
       "      <td>1986.0</td>\n",
       "      <td>K1</td>\n",
       "      <td>13</td>\n",
       "      <td>Vilniaus m. sav.</td>\n",
       "      <td>2022-02-08</td>\n",
       "    </tr>\n",
       "  </tbody>\n",
       "</table>\n",
       "</div>"
      ],
      "text/plain": [
       "   nr fiz_asm_lyt fiz_asm_amzius fiz_asm_pilietybe  deklarav_metai  \\\n",
       "0   1           V          55-64          Lietuvos          1981.0   \n",
       "1   2           V          55-64          Lietuvos          2014.0   \n",
       "2   3           V          35-44          Lietuvos          2018.0   \n",
       "3   4           M          35-44          Lietuvos          2007.0   \n",
       "4   5           M          65-84          Lietuvos          1986.0   \n",
       "\n",
       "  deklarav_ketvirtis  sav_kodas     sav_pavadinimas data_formav  \n",
       "0                 K4         21   Klaipėdos m. sav.  2022-02-08  \n",
       "1                 K1         75      Skuodo r. sav.  2022-02-08  \n",
       "2                 K1         86  Švenčionių r. sav.  2022-02-08  \n",
       "3                 K3         19       Kauno m. sav.  2022-02-08  \n",
       "4                 K1         13    Vilniaus m. sav.  2022-02-08  "
      ]
     },
     "execution_count": 89,
     "metadata": {},
     "output_type": "execute_result"
    }
   ],
   "source": [
    "rc.head()"
   ]
  },
  {
   "cell_type": "code",
   "execution_count": 48,
   "id": "66d478f6-09b7-45cd-b2df-0bcfe5dbb956",
   "metadata": {},
   "outputs": [
    {
     "data": {
      "text/plain": [
       "nr                    3016572\n",
       "fiz_asm_lyt                 2\n",
       "fiz_asm_amzius              9\n",
       "fiz_asm_pilietybe           3\n",
       "deklarav_metai             80\n",
       "deklarav_ketvirtis          4\n",
       "sav_kodas                  60\n",
       "sav_pavadinimas            60\n",
       "data_formav                 1\n",
       "dtype: int64"
      ]
     },
     "execution_count": 48,
     "metadata": {},
     "output_type": "execute_result"
    }
   ],
   "source": [
    "rc.nunique()"
   ]
  },
  {
   "cell_type": "markdown",
   "id": "ae84ab81-c3e2-4f04-83d1-9024b55a3aaf",
   "metadata": {},
   "source": [
    "Pasirenkame palyginti būtent Neringos ir Vilniaus miesto savivaldybes, nes apskaičiavus visų išlaidų sumos medianą, paaiškėja, jog Neringos savivaldybėje išlaidų dydžiai yra aukščiausi. "
   ]
  },
  {
   "cell_type": "code",
   "execution_count": 108,
   "id": "d622bf4d-af52-4da5-88f4-9b7d7cc36d66",
   "metadata": {},
   "outputs": [
    {
     "data": {
      "text/html": [
       "<div>\n",
       "<style scoped>\n",
       "    .dataframe tbody tr th:only-of-type {\n",
       "        vertical-align: middle;\n",
       "    }\n",
       "\n",
       "    .dataframe tbody tr th {\n",
       "        vertical-align: top;\n",
       "    }\n",
       "\n",
       "    .dataframe thead th {\n",
       "        text-align: right;\n",
       "    }\n",
       "</style>\n",
       "<table border=\"1\" class=\"dataframe\">\n",
       "  <thead>\n",
       "    <tr style=\"text-align: right;\">\n",
       "      <th></th>\n",
       "      <th>suma</th>\n",
       "    </tr>\n",
       "    <tr>\n",
       "      <th>sav_pavadinimas</th>\n",
       "      <th></th>\n",
       "    </tr>\n",
       "  </thead>\n",
       "  <tbody>\n",
       "    <tr>\n",
       "      <th>Neringos sav.</th>\n",
       "      <td>615.0</td>\n",
       "    </tr>\n",
       "    <tr>\n",
       "      <th>Palangos m. sav.</th>\n",
       "      <td>559.0</td>\n",
       "    </tr>\n",
       "    <tr>\n",
       "      <th>Skuodo r. sav.</th>\n",
       "      <td>540.0</td>\n",
       "    </tr>\n",
       "    <tr>\n",
       "      <th>Birštono sav.</th>\n",
       "      <td>540.0</td>\n",
       "    </tr>\n",
       "    <tr>\n",
       "      <th>Pagėgių sav.</th>\n",
       "      <td>522.0</td>\n",
       "    </tr>\n",
       "  </tbody>\n",
       "</table>\n",
       "</div>"
      ],
      "text/plain": [
       "                   suma\n",
       "sav_pavadinimas        \n",
       "Neringos sav.     615.0\n",
       "Palangos m. sav.  559.0\n",
       "Skuodo r. sav.    540.0\n",
       "Birštono sav.     540.0\n",
       "Pagėgių sav.      522.0"
      ]
     },
     "execution_count": 108,
     "metadata": {},
     "output_type": "execute_result"
    }
   ],
   "source": [
    "mediana = islaidos.groupby(['sav_pavadinimas'])['suma'].median().sort_values(ascending = False)\n",
    "mediana.head().to_frame()"
   ]
  },
  {
   "cell_type": "markdown",
   "id": "9e37e0a3-5b00-45db-96ad-0d4beffef409",
   "metadata": {},
   "source": [
    "Todėl lyginame jas dalindami visų išlaidų rūšių bendras sumas iš toje savivaldybėje gyvenančių gyventojų skaičiaus, šiuos duomenis gauname iš gyventojų registro. "
   ]
  },
  {
   "cell_type": "code",
   "execution_count": 168,
   "id": "1c025aad-f05c-4ad4-8d6a-3450c791ab5f",
   "metadata": {},
   "outputs": [
    {
     "data": {
      "text/html": [
       "<div>\n",
       "<style scoped>\n",
       "    .dataframe tbody tr th:only-of-type {\n",
       "        vertical-align: middle;\n",
       "    }\n",
       "\n",
       "    .dataframe tbody tr th {\n",
       "        vertical-align: top;\n",
       "    }\n",
       "\n",
       "    .dataframe thead th {\n",
       "        text-align: right;\n",
       "    }\n",
       "</style>\n",
       "<table border=\"1\" class=\"dataframe\">\n",
       "  <thead>\n",
       "    <tr style=\"text-align: right;\">\n",
       "      <th></th>\n",
       "      <th>suma</th>\n",
       "    </tr>\n",
       "    <tr>\n",
       "      <th>pavadinimas</th>\n",
       "      <th></th>\n",
       "    </tr>\n",
       "  </thead>\n",
       "  <tbody>\n",
       "    <tr>\n",
       "      <th>Būsto kredito, suteikto iki 2008-12-31, palūkanos.</th>\n",
       "      <td>10.442536</td>\n",
       "    </tr>\n",
       "    <tr>\n",
       "      <th>Grąžintas studijų kreditas.</th>\n",
       "      <td>1.798399</td>\n",
       "    </tr>\n",
       "    <tr>\n",
       "      <th>Gyvybės draudimo įmokos.</th>\n",
       "      <td>99.473558</td>\n",
       "    </tr>\n",
       "    <tr>\n",
       "      <th>Lengvųjų automobilių remonto paslaugų išlaidos (neįskaitant atsarginių detalių, eksploatacinių medžiagų kainos).</th>\n",
       "      <td>3.172512</td>\n",
       "    </tr>\n",
       "    <tr>\n",
       "      <th>Nepilnamečių (iki 18 metų) vaikų (įvaikių, globotinių, kuriems nustatyta nuolatinė globa šeimoje) priežiūros paslaugų išlaidos.</th>\n",
       "      <td>0.578828</td>\n",
       "    </tr>\n",
       "    <tr>\n",
       "      <th>Pastatų, statinių remonto, apdailos (išskyrus renovaciją) darbų išlaidos.</th>\n",
       "      <td>13.485207</td>\n",
       "    </tr>\n",
       "    <tr>\n",
       "      <th>Pensijų kaupimo įmokos.</th>\n",
       "      <td>12.192533</td>\n",
       "    </tr>\n",
       "    <tr>\n",
       "      <th>Įmokos už aukštąjį ar profesinį mokymąsi.</th>\n",
       "      <td>20.416404</td>\n",
       "    </tr>\n",
       "    <tr>\n",
       "      <th>Įmokų į pensijų fondą dalis, viršijanti 3 procentus gyventojo pajamų, nuo kurių mokamos valstybinio socialinio draudimo įmokos.</th>\n",
       "      <td>0.731968</td>\n",
       "    </tr>\n",
       "  </tbody>\n",
       "</table>\n",
       "</div>"
      ],
      "text/plain": [
       "                                                                                                                                      suma\n",
       "pavadinimas                                                                                                                               \n",
       "Būsto kredito, suteikto iki 2008-12-31, palūkanos.                                                                               10.442536\n",
       "Grąžintas studijų kreditas.                                                                                                       1.798399\n",
       "Gyvybės draudimo įmokos.                                                                                                         99.473558\n",
       "Lengvųjų automobilių remonto paslaugų išlaidos (neįskaitant atsarginių detalių, eksploatacinių medžiagų kainos).                  3.172512\n",
       "Nepilnamečių (iki 18 metų) vaikų (įvaikių, globotinių, kuriems nustatyta nuolatinė globa šeimoje) priežiūros paslaugų išlaidos.   0.578828\n",
       "Pastatų, statinių remonto, apdailos (išskyrus renovaciją) darbų išlaidos.                                                        13.485207\n",
       "Pensijų kaupimo įmokos.                                                                                                          12.192533\n",
       "Įmokos už aukštąjį ar profesinį mokymąsi.                                                                                        20.416404\n",
       "Įmokų į pensijų fondą dalis, viršijanti 3 procentus gyventojo pajamų, nuo kurių mokamos valstybinio socialinio draudimo įmokos.   0.731968"
      ]
     },
     "execution_count": 168,
     "metadata": {},
     "output_type": "execute_result"
    }
   ],
   "source": [
    "vilnius = islaidos.loc[islaidos['sav_pavadinimas'] == 'Vilniaus m. sav.']\n",
    "vilnius1 = rc.loc[rc['sav_pavadinimas'] == 'Vilniaus m. sav.']\n",
    "is_viso_vilnius = vilnius1.shape[0]\n",
    "vilnius_dal_2 = vilnius.groupby(['pavadinimas'])['suma'].sum()/(is_viso_vilnius)\n",
    "vilnius_dal_2.to_frame()"
   ]
  },
  {
   "cell_type": "code",
   "execution_count": 183,
   "id": "3484cb98-3332-4a46-8bb2-7469a292c898",
   "metadata": {},
   "outputs": [
    {
     "data": {
      "text/html": [
       "<div>\n",
       "<style scoped>\n",
       "    .dataframe tbody tr th:only-of-type {\n",
       "        vertical-align: middle;\n",
       "    }\n",
       "\n",
       "    .dataframe tbody tr th {\n",
       "        vertical-align: top;\n",
       "    }\n",
       "\n",
       "    .dataframe thead th {\n",
       "        text-align: right;\n",
       "    }\n",
       "</style>\n",
       "<table border=\"1\" class=\"dataframe\">\n",
       "  <thead>\n",
       "    <tr style=\"text-align: right;\">\n",
       "      <th></th>\n",
       "      <th>suma</th>\n",
       "    </tr>\n",
       "    <tr>\n",
       "      <th>pavadinimas</th>\n",
       "      <th></th>\n",
       "    </tr>\n",
       "  </thead>\n",
       "  <tbody>\n",
       "    <tr>\n",
       "      <th>Būsto kredito, suteikto iki 2008-12-31, palūkanos.</th>\n",
       "      <td>24.978014</td>\n",
       "    </tr>\n",
       "    <tr>\n",
       "      <th>Grąžintas studijų kreditas.</th>\n",
       "      <td>2.251137</td>\n",
       "    </tr>\n",
       "    <tr>\n",
       "      <th>Gyvybės draudimo įmokos.</th>\n",
       "      <td>202.992987</td>\n",
       "    </tr>\n",
       "    <tr>\n",
       "      <th>Lengvųjų automobilių remonto paslaugų išlaidos (neįskaitant atsarginių detalių, eksploatacinių medžiagų kainos).</th>\n",
       "      <td>4.307430</td>\n",
       "    </tr>\n",
       "    <tr>\n",
       "      <th>Nepilnamečių (iki 18 metų) vaikų (įvaikių, globotinių, kuriems nustatyta nuolatinė globa šeimoje) priežiūros paslaugų išlaidos.</th>\n",
       "      <td>0.676080</td>\n",
       "    </tr>\n",
       "    <tr>\n",
       "      <th>Pastatų, statinių remonto, apdailos (išskyrus renovaciją) darbų išlaidos.</th>\n",
       "      <td>17.137604</td>\n",
       "    </tr>\n",
       "    <tr>\n",
       "      <th>Pensijų kaupimo įmokos.</th>\n",
       "      <td>13.765732</td>\n",
       "    </tr>\n",
       "    <tr>\n",
       "      <th>Įmokos už aukštąjį ar profesinį mokymąsi.</th>\n",
       "      <td>41.267817</td>\n",
       "    </tr>\n",
       "    <tr>\n",
       "      <th>Įmokų į pensijų fondą dalis, viršijanti 3 procentus gyventojo pajamų, nuo kurių mokamos valstybinio socialinio draudimo įmokos.</th>\n",
       "      <td>0.232942</td>\n",
       "    </tr>\n",
       "  </tbody>\n",
       "</table>\n",
       "</div>"
      ],
      "text/plain": [
       "                                                                                                                                       suma\n",
       "pavadinimas                                                                                                                                \n",
       "Būsto kredito, suteikto iki 2008-12-31, palūkanos.                                                                                24.978014\n",
       "Grąžintas studijų kreditas.                                                                                                        2.251137\n",
       "Gyvybės draudimo įmokos.                                                                                                         202.992987\n",
       "Lengvųjų automobilių remonto paslaugų išlaidos (neįskaitant atsarginių detalių, eksploatacinių medžiagų kainos).                   4.307430\n",
       "Nepilnamečių (iki 18 metų) vaikų (įvaikių, globotinių, kuriems nustatyta nuolatinė globa šeimoje) priežiūros paslaugų išlaidos.    0.676080\n",
       "Pastatų, statinių remonto, apdailos (išskyrus renovaciją) darbų išlaidos.                                                         17.137604\n",
       "Pensijų kaupimo įmokos.                                                                                                           13.765732\n",
       "Įmokos už aukštąjį ar profesinį mokymąsi.                                                                                         41.267817\n",
       "Įmokų į pensijų fondą dalis, viršijanti 3 procentus gyventojo pajamų, nuo kurių mokamos valstybinio socialinio draudimo įmokos.    0.232942"
      ]
     },
     "execution_count": 183,
     "metadata": {},
     "output_type": "execute_result"
    }
   ],
   "source": [
    "neringa = islaidos.loc[islaidos['sav_pavadinimas'] == 'Neringos sav.']\n",
    "neringa1 = rc.loc[rc['sav_pavadinimas'] == 'Neringos sav.']\n",
    "is_viso_neringa = neringa1.shape[0]\n",
    "neringa_dal_2 = neringa.groupby(['pavadinimas'])['suma'].sum()/(is_viso_neringa)\n",
    "neringa_dal_2.to_frame()"
   ]
  },
  {
   "cell_type": "markdown",
   "id": "eb79d476-ce92-4c69-ad36-39ec14f8ebbd",
   "metadata": {},
   "source": [
    "Peržiūrėjus abi lenteles galime daryti išvadą, jog Neringos savivaldybėje gyvena turtingesni žmonės ir, kad ten pragyvenimas greičiausiai kainuoja daugiau, nei Vilniaus miesto savivaldybėje, kadangi beveik visos apskaičiuotos sumos Neringos savivaldybėje lenkia Vilniaus miesto savivaldybės išlaidas"
   ]
  }
 ],
 "metadata": {
  "kernelspec": {
   "display_name": "Python 3 (ipykernel)",
   "language": "python",
   "name": "python3"
  },
  "language_info": {
   "codemirror_mode": {
    "name": "ipython",
    "version": 3
   },
   "file_extension": ".py",
   "mimetype": "text/x-python",
   "name": "python",
   "nbconvert_exporter": "python",
   "pygments_lexer": "ipython3",
   "version": "3.9.12"
  }
 },
 "nbformat": 4,
 "nbformat_minor": 5
}
