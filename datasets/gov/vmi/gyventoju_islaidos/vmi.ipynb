{
 "cells": [
  {
   "cell_type": "markdown",
   "id": "b703a6aa-65b8-43c7-9dbc-5fcea1d345c4",
   "metadata": {
    "tags": []
   },
   "source": [
    "# IŠLAIDOS"
   ]
  },
  {
   "cell_type": "markdown",
   "id": "7b02762e-bf39-4664-a16d-3d567d004f5a",
   "metadata": {},
   "source": [
    "+ Agreguoti duomenys iš juridinių asmenų pateiktos informacijos apie gyventojų patirtas įmokas ir gyventojų deklaruotas išlaidas,\n",
    "kuriomis gali būti mažinamos gyventojų apmokestinamosios pajamos. \n",
    "https://data.gov.lt/dataset/gyventoju-patirtos-islaidos\n",
    "+ Gyventojų registro (GR) duomenys apie Lietuvos Respublikos teritorijoje įregistruotus fizinius asmenis. GR duomenys apie Lietuvos gyventojų amžių ir lytį pagal savivaldybes\n",
    "https://www.registrucentras.lt/p/1539\n",
    "https://data.gov.lt/dataset/gyventoju-registro-duomenys-apie-lietuvos-gyventoju-amziu-ir-lyti-pagal-savivaldybes"
   ]
  },
  {
   "cell_type": "markdown",
   "id": "6ead2136-ef09-4eea-a917-0dae2a207ff7",
   "metadata": {},
   "source": [
    "# Duomenų nuskaitymas"
   ]
  },
  {
   "cell_type": "code",
   "execution_count": 1,
   "id": "6a7ea584-b907-4920-9fdf-dcdcf9001d6e",
   "metadata": {},
   "outputs": [],
   "source": [
    "import pandas as pd\n",
    "import matplotlib.pyplot as plt\n",
    "import matplotlib as mpl\n",
    "import seaborn as sns\n",
    "import numpy as np\n",
    "from sklearn.decomposition import PCA\n",
    "from sklearn.preprocessing import StandardScaler\n",
    "from pathlib import Path\n",
    "%matplotlib inline"
   ]
  },
  {
   "cell_type": "code",
   "execution_count": 2,
   "id": "38597312-73f8-4161-99a7-aa70497788e7",
   "metadata": {},
   "outputs": [
    {
     "data": {
      "text/plain": [
       "WindowsPath('C:/Users/evelina.zigmantaite/Desktop/08-16/notebooks/data')"
      ]
     },
     "execution_count": 2,
     "metadata": {},
     "output_type": "execute_result"
    }
   ],
   "source": [
    "data_dir = Path().resolve().parents[3] / 'data'\n",
    "data_dir"
   ]
  },
  {
   "cell_type": "code",
   "execution_count": 3,
   "id": "bd762565-369c-43cf-ace8-51c4f91ee72b",
   "metadata": {},
   "outputs": [],
   "source": [
    "islaidos=pd.read_csv(data_dir / \"datasets/gov/vmi/gyventoju_islaidos/GyventojuIslaidos.csv\")"
   ]
  },
  {
   "cell_type": "code",
   "execution_count": 4,
   "id": "d7163a4a-4445-4ce2-877f-cd68ef32e910",
   "metadata": {},
   "outputs": [],
   "source": [
    "rc = pd.read_csv(data_dir / \"datasets/gov/rc/gr/01_gr_open_amzius_lytis_pilietybes_sav_r1.csv\")"
   ]
  },
  {
   "cell_type": "markdown",
   "id": "51411cd5-df64-410f-a721-fa00fd2d8480",
   "metadata": {
    "tags": []
   },
   "source": [
    "# Duomenų apžvalga"
   ]
  },
  {
   "cell_type": "code",
   "execution_count": 5,
   "id": "bea10827-ca07-44a6-8b17-2a2c62df70f9",
   "metadata": {},
   "outputs": [
    {
     "data": {
      "text/html": [
       "<div>\n",
       "<style scoped>\n",
       "    .dataframe tbody tr th:only-of-type {\n",
       "        vertical-align: middle;\n",
       "    }\n",
       "\n",
       "    .dataframe tbody tr th {\n",
       "        vertical-align: top;\n",
       "    }\n",
       "\n",
       "    .dataframe thead th {\n",
       "        text-align: right;\n",
       "    }\n",
       "</style>\n",
       "<table border=\"1\" class=\"dataframe\">\n",
       "  <thead>\n",
       "    <tr style=\"text-align: right;\">\n",
       "      <th></th>\n",
       "      <th>0</th>\n",
       "      <th>1</th>\n",
       "      <th>2</th>\n",
       "      <th>3</th>\n",
       "      <th>4</th>\n",
       "    </tr>\n",
       "  </thead>\n",
       "  <tbody>\n",
       "    <tr>\n",
       "      <th>_type</th>\n",
       "      <td>datasets/gov/vmi/gyventoju_islaidos/GyventojuIslaidos</td>\n",
       "      <td>datasets/gov/vmi/gyventoju_islaidos/GyventojuIslaidos</td>\n",
       "      <td>datasets/gov/vmi/gyventoju_islaidos/GyventojuIslaidos</td>\n",
       "      <td>datasets/gov/vmi/gyventoju_islaidos/GyventojuIslaidos</td>\n",
       "      <td>datasets/gov/vmi/gyventoju_islaidos/GyventojuIslaidos</td>\n",
       "    </tr>\n",
       "    <tr>\n",
       "      <th>_id</th>\n",
       "      <td>f44f4a67-e4ae-433e-a971-fc734cdf082a</td>\n",
       "      <td>879409f4-a478-43a9-997a-d185169f230b</td>\n",
       "      <td>1a2d1af6-da46-4c4f-8f12-1787b41d44d4</td>\n",
       "      <td>dc7a74a7-8328-415d-bf3b-ac92ee0e851d</td>\n",
       "      <td>e70b98aa-fab7-4893-a159-d549e764de3d</td>\n",
       "    </tr>\n",
       "    <tr>\n",
       "      <th>_revision</th>\n",
       "      <td>a520537c-6bea-4251-a947-7a65a60e3c0f</td>\n",
       "      <td>4113b4e9-4f76-426c-8a44-0a91f1baf896</td>\n",
       "      <td>b134333d-1335-4421-af33-d397dd3dbc3d</td>\n",
       "      <td>ba3a87c3-3d0b-4ca2-b365-c45e70c2cb09</td>\n",
       "      <td>11313b1c-88e6-42c0-989b-aa619314ee5c</td>\n",
       "    </tr>\n",
       "    <tr>\n",
       "      <th>metai</th>\n",
       "      <td>2020</td>\n",
       "      <td>2020</td>\n",
       "      <td>2020</td>\n",
       "      <td>2020</td>\n",
       "      <td>2020</td>\n",
       "    </tr>\n",
       "    <tr>\n",
       "      <th>sav_kodas</th>\n",
       "      <td>19</td>\n",
       "      <td>13</td>\n",
       "      <td>13</td>\n",
       "      <td>13</td>\n",
       "      <td>13</td>\n",
       "    </tr>\n",
       "    <tr>\n",
       "      <th>sav_pavadinimas</th>\n",
       "      <td>Kauno m. sav.</td>\n",
       "      <td>Vilniaus m. sav.</td>\n",
       "      <td>Vilniaus m. sav.</td>\n",
       "      <td>Vilniaus m. sav.</td>\n",
       "      <td>Vilniaus m. sav.</td>\n",
       "    </tr>\n",
       "    <tr>\n",
       "      <th>mm_kodas</th>\n",
       "      <td>db9f2c139efdf133098956d9f057ebce1c6e078eb4fcc22ec8a9d12220c0368b</td>\n",
       "      <td>3cdc64e4d6a7dce93ef20a78335786c36b2b19215cb7d0547d0ae02b304fdc90</td>\n",
       "      <td>8d9ad45da178a723551c78490ab29ba7d3e7b0c6c995d0d34876073dbaf0e534</td>\n",
       "      <td>c17883ac6b4dae58af45cead71157f6ddcdcf4bf92facac32626a7b238b5a410</td>\n",
       "      <td>448c8fe614853c1ddc5ebd62c607df418d4855aba089681075bddfe3b12b366b</td>\n",
       "    </tr>\n",
       "    <tr>\n",
       "      <th>ir_kodas</th>\n",
       "      <td>2</td>\n",
       "      <td>1</td>\n",
       "      <td>6</td>\n",
       "      <td>7</td>\n",
       "      <td>1</td>\n",
       "    </tr>\n",
       "    <tr>\n",
       "      <th>pavadinimas</th>\n",
       "      <td>Įmokos už aukštąjį ar profesinį mokymąsi.</td>\n",
       "      <td>Gyvybės draudimo įmokos.</td>\n",
       "      <td>Pastatų, statinių remonto, apdailos (išskyrus renovaciją) darbų išlaidos.</td>\n",
       "      <td>Lengvųjų automobilių remonto paslaugų išlaidos (neįskaitant atsarginių detalių, eksploatacinių medžiagų kainos).</td>\n",
       "      <td>Gyvybės draudimo įmokos.</td>\n",
       "    </tr>\n",
       "    <tr>\n",
       "      <th>suma</th>\n",
       "      <td>780.0</td>\n",
       "      <td>725.0</td>\n",
       "      <td>45.0</td>\n",
       "      <td>300.0</td>\n",
       "      <td>480.0</td>\n",
       "    </tr>\n",
       "  </tbody>\n",
       "</table>\n",
       "</div>"
      ],
      "text/plain": [
       "                                                                                0  \\\n",
       "_type                       datasets/gov/vmi/gyventoju_islaidos/GyventojuIslaidos   \n",
       "_id                                          f44f4a67-e4ae-433e-a971-fc734cdf082a   \n",
       "_revision                                    a520537c-6bea-4251-a947-7a65a60e3c0f   \n",
       "metai                                                                        2020   \n",
       "sav_kodas                                                                      19   \n",
       "sav_pavadinimas                                                     Kauno m. sav.   \n",
       "mm_kodas         db9f2c139efdf133098956d9f057ebce1c6e078eb4fcc22ec8a9d12220c0368b   \n",
       "ir_kodas                                                                        2   \n",
       "pavadinimas                             Įmokos už aukštąjį ar profesinį mokymąsi.   \n",
       "suma                                                                        780.0   \n",
       "\n",
       "                                                                                1  \\\n",
       "_type                       datasets/gov/vmi/gyventoju_islaidos/GyventojuIslaidos   \n",
       "_id                                          879409f4-a478-43a9-997a-d185169f230b   \n",
       "_revision                                    4113b4e9-4f76-426c-8a44-0a91f1baf896   \n",
       "metai                                                                        2020   \n",
       "sav_kodas                                                                      13   \n",
       "sav_pavadinimas                                                  Vilniaus m. sav.   \n",
       "mm_kodas         3cdc64e4d6a7dce93ef20a78335786c36b2b19215cb7d0547d0ae02b304fdc90   \n",
       "ir_kodas                                                                        1   \n",
       "pavadinimas                                              Gyvybės draudimo įmokos.   \n",
       "suma                                                                        725.0   \n",
       "\n",
       "                                                                                         2  \\\n",
       "_type                                datasets/gov/vmi/gyventoju_islaidos/GyventojuIslaidos   \n",
       "_id                                                   1a2d1af6-da46-4c4f-8f12-1787b41d44d4   \n",
       "_revision                                             b134333d-1335-4421-af33-d397dd3dbc3d   \n",
       "metai                                                                                 2020   \n",
       "sav_kodas                                                                               13   \n",
       "sav_pavadinimas                                                           Vilniaus m. sav.   \n",
       "mm_kodas                  8d9ad45da178a723551c78490ab29ba7d3e7b0c6c995d0d34876073dbaf0e534   \n",
       "ir_kodas                                                                                 6   \n",
       "pavadinimas      Pastatų, statinių remonto, apdailos (išskyrus renovaciją) darbų išlaidos.   \n",
       "suma                                                                                  45.0   \n",
       "\n",
       "                                                                                                                                3  \\\n",
       "_type                                                                       datasets/gov/vmi/gyventoju_islaidos/GyventojuIslaidos   \n",
       "_id                                                                                          dc7a74a7-8328-415d-bf3b-ac92ee0e851d   \n",
       "_revision                                                                                    ba3a87c3-3d0b-4ca2-b365-c45e70c2cb09   \n",
       "metai                                                                                                                        2020   \n",
       "sav_kodas                                                                                                                      13   \n",
       "sav_pavadinimas                                                                                                  Vilniaus m. sav.   \n",
       "mm_kodas                                                         c17883ac6b4dae58af45cead71157f6ddcdcf4bf92facac32626a7b238b5a410   \n",
       "ir_kodas                                                                                                                        7   \n",
       "pavadinimas      Lengvųjų automobilių remonto paslaugų išlaidos (neįskaitant atsarginių detalių, eksploatacinių medžiagų kainos).   \n",
       "suma                                                                                                                        300.0   \n",
       "\n",
       "                                                                                4  \n",
       "_type                       datasets/gov/vmi/gyventoju_islaidos/GyventojuIslaidos  \n",
       "_id                                          e70b98aa-fab7-4893-a159-d549e764de3d  \n",
       "_revision                                    11313b1c-88e6-42c0-989b-aa619314ee5c  \n",
       "metai                                                                        2020  \n",
       "sav_kodas                                                                      13  \n",
       "sav_pavadinimas                                                  Vilniaus m. sav.  \n",
       "mm_kodas         448c8fe614853c1ddc5ebd62c607df418d4855aba089681075bddfe3b12b366b  \n",
       "ir_kodas                                                                        1  \n",
       "pavadinimas                                              Gyvybės draudimo įmokos.  \n",
       "suma                                                                        480.0  "
      ]
     },
     "execution_count": 5,
     "metadata": {},
     "output_type": "execute_result"
    }
   ],
   "source": [
    "pd.options.display.max_colwidth = 500\n",
    "islaidos.head().T"
   ]
  },
  {
   "cell_type": "code",
   "execution_count": 6,
   "id": "833675f6-64f5-4360-af03-7636304cc3ab",
   "metadata": {},
   "outputs": [
    {
     "data": {
      "text/html": [
       "<div>\n",
       "<style scoped>\n",
       "    .dataframe tbody tr th:only-of-type {\n",
       "        vertical-align: middle;\n",
       "    }\n",
       "\n",
       "    .dataframe tbody tr th {\n",
       "        vertical-align: top;\n",
       "    }\n",
       "\n",
       "    .dataframe thead th {\n",
       "        text-align: right;\n",
       "    }\n",
       "</style>\n",
       "<table border=\"1\" class=\"dataframe\">\n",
       "  <thead>\n",
       "    <tr style=\"text-align: right;\">\n",
       "      <th></th>\n",
       "      <th>178</th>\n",
       "      <th>854</th>\n",
       "      <th>1316</th>\n",
       "      <th>1676</th>\n",
       "      <th>2230</th>\n",
       "    </tr>\n",
       "  </thead>\n",
       "  <tbody>\n",
       "    <tr>\n",
       "      <th>_type</th>\n",
       "      <td>datasets/gov/vmi/gyventoju_islaidos/GyventojuIslaidos</td>\n",
       "      <td>datasets/gov/vmi/gyventoju_islaidos/GyventojuIslaidos</td>\n",
       "      <td>datasets/gov/vmi/gyventoju_islaidos/GyventojuIslaidos</td>\n",
       "      <td>datasets/gov/vmi/gyventoju_islaidos/GyventojuIslaidos</td>\n",
       "      <td>datasets/gov/vmi/gyventoju_islaidos/GyventojuIslaidos</td>\n",
       "    </tr>\n",
       "    <tr>\n",
       "      <th>_id</th>\n",
       "      <td>ce339c37-1519-4a4b-9321-9adf9478e32f</td>\n",
       "      <td>77e74a4f-2cc0-42de-b143-9db7def3d5a8</td>\n",
       "      <td>0a6581b6-b17d-4eea-8117-ab21bbf075cb</td>\n",
       "      <td>b0d5f02d-b342-45da-880d-f6fa06b63f37</td>\n",
       "      <td>cfaccd75-5163-46f3-b7b1-30b6daa530c3</td>\n",
       "    </tr>\n",
       "    <tr>\n",
       "      <th>_revision</th>\n",
       "      <td>559bd79d-4fcb-415f-bb77-42f820a3d604</td>\n",
       "      <td>a45978fd-762c-45dd-8298-d794f13e754b</td>\n",
       "      <td>1c2d81f3-f166-481f-a272-f6e11dcf093e</td>\n",
       "      <td>476753c2-aeb4-4e79-8b23-7616d58fd5b1</td>\n",
       "      <td>1c8e65fa-25d8-4d0b-ad47-16aa25af93e4</td>\n",
       "    </tr>\n",
       "    <tr>\n",
       "      <th>metai</th>\n",
       "      <td>2020</td>\n",
       "      <td>2020</td>\n",
       "      <td>2020</td>\n",
       "      <td>2020</td>\n",
       "      <td>2020</td>\n",
       "    </tr>\n",
       "    <tr>\n",
       "      <th>sav_kodas</th>\n",
       "      <td>21</td>\n",
       "      <td>66</td>\n",
       "      <td>21</td>\n",
       "      <td>13</td>\n",
       "      <td>29</td>\n",
       "    </tr>\n",
       "    <tr>\n",
       "      <th>sav_pavadinimas</th>\n",
       "      <td>Klaipėdos m. sav.</td>\n",
       "      <td>Panevėžio r. sav.</td>\n",
       "      <td>Klaipėdos m. sav.</td>\n",
       "      <td>Vilniaus m. sav.</td>\n",
       "      <td>Šiaulių m. sav.</td>\n",
       "    </tr>\n",
       "    <tr>\n",
       "      <th>mm_kodas</th>\n",
       "      <td>021e9590886072dfb018243f148916278180a20b9dfd91ecb3fc07c59636ab4d</td>\n",
       "      <td>15417c6299bcef725693d8b31306824395d55c25e79945d1a3c498205ef05b52</td>\n",
       "      <td>25c0d1e8fe6b0679eafdeb9228f001e7f0abdf1cc300d0735b68c8a487e106ea</td>\n",
       "      <td>2f9e4455d57017f83f7e9d4c6f45b8f4559767b70c4f4dcf543b74401c19998e</td>\n",
       "      <td>2695f835c5a72b5d97439b5be909f0596eaaa12f9f991926a6ea338a5e75f480</td>\n",
       "    </tr>\n",
       "    <tr>\n",
       "      <th>ir_kodas</th>\n",
       "      <td>3</td>\n",
       "      <td>1</td>\n",
       "      <td>1</td>\n",
       "      <td>4</td>\n",
       "      <td>3</td>\n",
       "    </tr>\n",
       "    <tr>\n",
       "      <th>pavadinimas</th>\n",
       "      <td>Būsto kredito, suteikto iki 2008-12-31, palūkanos.</td>\n",
       "      <td>Gyvybės draudimo įmokos.</td>\n",
       "      <td>Gyvybės draudimo įmokos.</td>\n",
       "      <td>Pensijų kaupimo įmokos.</td>\n",
       "      <td>Būsto kredito, suteikto iki 2008-12-31, palūkanos.</td>\n",
       "    </tr>\n",
       "    <tr>\n",
       "      <th>suma</th>\n",
       "      <td>0.0</td>\n",
       "      <td>0.0</td>\n",
       "      <td>0.0</td>\n",
       "      <td>0.0</td>\n",
       "      <td>0.0</td>\n",
       "    </tr>\n",
       "  </tbody>\n",
       "</table>\n",
       "</div>"
      ],
      "text/plain": [
       "                                                                             178   \\\n",
       "_type                       datasets/gov/vmi/gyventoju_islaidos/GyventojuIslaidos   \n",
       "_id                                          ce339c37-1519-4a4b-9321-9adf9478e32f   \n",
       "_revision                                    559bd79d-4fcb-415f-bb77-42f820a3d604   \n",
       "metai                                                                        2020   \n",
       "sav_kodas                                                                      21   \n",
       "sav_pavadinimas                                                 Klaipėdos m. sav.   \n",
       "mm_kodas         021e9590886072dfb018243f148916278180a20b9dfd91ecb3fc07c59636ab4d   \n",
       "ir_kodas                                                                        3   \n",
       "pavadinimas                    Būsto kredito, suteikto iki 2008-12-31, palūkanos.   \n",
       "suma                                                                          0.0   \n",
       "\n",
       "                                                                             854   \\\n",
       "_type                       datasets/gov/vmi/gyventoju_islaidos/GyventojuIslaidos   \n",
       "_id                                          77e74a4f-2cc0-42de-b143-9db7def3d5a8   \n",
       "_revision                                    a45978fd-762c-45dd-8298-d794f13e754b   \n",
       "metai                                                                        2020   \n",
       "sav_kodas                                                                      66   \n",
       "sav_pavadinimas                                                 Panevėžio r. sav.   \n",
       "mm_kodas         15417c6299bcef725693d8b31306824395d55c25e79945d1a3c498205ef05b52   \n",
       "ir_kodas                                                                        1   \n",
       "pavadinimas                                              Gyvybės draudimo įmokos.   \n",
       "suma                                                                          0.0   \n",
       "\n",
       "                                                                             1316  \\\n",
       "_type                       datasets/gov/vmi/gyventoju_islaidos/GyventojuIslaidos   \n",
       "_id                                          0a6581b6-b17d-4eea-8117-ab21bbf075cb   \n",
       "_revision                                    1c2d81f3-f166-481f-a272-f6e11dcf093e   \n",
       "metai                                                                        2020   \n",
       "sav_kodas                                                                      21   \n",
       "sav_pavadinimas                                                 Klaipėdos m. sav.   \n",
       "mm_kodas         25c0d1e8fe6b0679eafdeb9228f001e7f0abdf1cc300d0735b68c8a487e106ea   \n",
       "ir_kodas                                                                        1   \n",
       "pavadinimas                                              Gyvybės draudimo įmokos.   \n",
       "suma                                                                          0.0   \n",
       "\n",
       "                                                                             1676  \\\n",
       "_type                       datasets/gov/vmi/gyventoju_islaidos/GyventojuIslaidos   \n",
       "_id                                          b0d5f02d-b342-45da-880d-f6fa06b63f37   \n",
       "_revision                                    476753c2-aeb4-4e79-8b23-7616d58fd5b1   \n",
       "metai                                                                        2020   \n",
       "sav_kodas                                                                      13   \n",
       "sav_pavadinimas                                                  Vilniaus m. sav.   \n",
       "mm_kodas         2f9e4455d57017f83f7e9d4c6f45b8f4559767b70c4f4dcf543b74401c19998e   \n",
       "ir_kodas                                                                        4   \n",
       "pavadinimas                                               Pensijų kaupimo įmokos.   \n",
       "suma                                                                          0.0   \n",
       "\n",
       "                                                                             2230  \n",
       "_type                       datasets/gov/vmi/gyventoju_islaidos/GyventojuIslaidos  \n",
       "_id                                          cfaccd75-5163-46f3-b7b1-30b6daa530c3  \n",
       "_revision                                    1c8e65fa-25d8-4d0b-ad47-16aa25af93e4  \n",
       "metai                                                                        2020  \n",
       "sav_kodas                                                                      29  \n",
       "sav_pavadinimas                                                   Šiaulių m. sav.  \n",
       "mm_kodas         2695f835c5a72b5d97439b5be909f0596eaaa12f9f991926a6ea338a5e75f480  \n",
       "ir_kodas                                                                        3  \n",
       "pavadinimas                    Būsto kredito, suteikto iki 2008-12-31, palūkanos.  \n",
       "suma                                                                          0.0  "
      ]
     },
     "execution_count": 6,
     "metadata": {},
     "output_type": "execute_result"
    }
   ],
   "source": [
    "# Kodėl daug nulinių reikšmių sumos stulpelyje?\n",
    "islaidos[islaidos['suma'] == 0].head().T # 552 reikšmės"
   ]
  },
  {
   "cell_type": "markdown",
   "id": "c1f69de8-7def-45b1-87d9-19369cf9bdd3",
   "metadata": {},
   "source": [
    "Kai kurie Dtype neatitinka tipo nurodyto struktūros apraše. Pvz: sav_kodas"
   ]
  },
  {
   "cell_type": "code",
   "execution_count": 7,
   "id": "126ddcf7-b5b9-43ba-af7a-d16c01816c4e",
   "metadata": {},
   "outputs": [
    {
     "name": "stdout",
     "output_type": "stream",
     "text": [
      "<class 'pandas.core.frame.DataFrame'>\n",
      "RangeIndex: 438262 entries, 0 to 438261\n",
      "Data columns (total 10 columns):\n",
      " #   Column           Non-Null Count   Dtype  \n",
      "---  ------           --------------   -----  \n",
      " 0   _type            438262 non-null  object \n",
      " 1   _id              438262 non-null  object \n",
      " 2   _revision        438262 non-null  object \n",
      " 3   metai            438262 non-null  int64  \n",
      " 4   sav_kodas        438262 non-null  int64  \n",
      " 5   sav_pavadinimas  438262 non-null  object \n",
      " 6   mm_kodas         438262 non-null  object \n",
      " 7   ir_kodas         438262 non-null  int64  \n",
      " 8   pavadinimas      438262 non-null  object \n",
      " 9   suma             438262 non-null  float64\n",
      "dtypes: float64(1), int64(3), object(6)\n",
      "memory usage: 33.4+ MB\n"
     ]
    }
   ],
   "source": [
    "islaidos.info() "
   ]
  },
  {
   "cell_type": "code",
   "execution_count": 8,
   "id": "c8d470e5-bad9-4efd-a7ae-62b359c3e144",
   "metadata": {},
   "outputs": [
    {
     "data": {
      "text/plain": [
       "_type                   1\n",
       "_id                438262\n",
       "_revision          438262\n",
       "metai                   1\n",
       "sav_kodas              60\n",
       "sav_pavadinimas        60\n",
       "mm_kodas           384280\n",
       "ir_kodas                9\n",
       "pavadinimas             9\n",
       "suma                 5943\n",
       "dtype: int64"
      ]
     },
     "execution_count": 8,
     "metadata": {},
     "output_type": "execute_result"
    }
   ],
   "source": [
    "islaidos.nunique()"
   ]
  },
  {
   "cell_type": "markdown",
   "id": "a4103786-ea6c-4e7e-8738-6bdf7dbb12ba",
   "metadata": {
    "tags": []
   },
   "source": [
    "# Išlaidų rūšys pagal populiarumą"
   ]
  },
  {
   "cell_type": "markdown",
   "id": "5551ad86-a26a-496c-9eae-2161addb6694",
   "metadata": {},
   "source": [
    "Brėžiame diagramą, kuri vaizduoja kiekvienos išlaidų rūšies dažnį šiuose duomenyse."
   ]
  },
  {
   "cell_type": "code",
   "execution_count": 9,
   "id": "92f76d74-3ce8-426e-966d-2d75e971b1fe",
   "metadata": {},
   "outputs": [
    {
     "data": {
      "image/png": "[encoded data removed]",
      "text/plain": [
       "<Figure size 1440x720 with 1 Axes>"
      ]
     },
     "metadata": {
      "needs_background": "light"
     },
     "output_type": "display_data"
    }
   ],
   "source": [
    "mpl.rc('figure', figsize=(20,10))\n",
    "df = round((islaidos['pavadinimas'].value_counts().sort_values(ascending=False) \n",
    "                 / islaidos['pavadinimas'].value_counts().sort_values(ascending=False).sum())*100,1)\n",
    "ax = df.plot.barh()\n",
    "ax.bar_label(ax.containers[0])\n",
    "plt.xlabel('procentai')\n",
    "plt.ylabel('pavadinimas')\n",
    "plt.show()"
   ]
  },
  {
   "cell_type": "markdown",
   "id": "3929487c-cc0f-49c3-803a-a2d9bce07f92",
   "metadata": {},
   "source": [
    "Skaičiuojant procentinę dalį pastebime, kad \"Gyvybės draudimo įmokos\" sudaro net 62 % visų išlaidų rūšių, kuriomis gali būti mažinamos gyventojų apmokestinamosios pajamos"
   ]
  },
  {
   "cell_type": "markdown",
   "id": "e06faa82-e400-431c-9383-6a3217cf3c21",
   "metadata": {},
   "source": [
    "Taip pat galime pažiūrėt, kaip bendrai yra pasiskirstę visos išlaidų rūšys."
   ]
  },
  {
   "cell_type": "code",
   "execution_count": 10,
   "id": "177f6868-2b94-4cd6-9bcd-fd6bfbcd9466",
   "metadata": {},
   "outputs": [
    {
     "data": {
      "image/png": "[encoded data removed]",
      "text/plain": [
       "<Figure size 1440x720 with 1 Axes>"
      ]
     },
     "metadata": {
      "needs_background": "light"
     },
     "output_type": "display_data"
    }
   ],
   "source": [
    "vienas = islaidos.set_index(['_id','pavadinimas'])['suma'].unstack() #.plot.box(logy = True)\n",
    "fig, ax= plt.subplots(figsize=(20, 10))\n",
    "ax.set_xscale('log')\n",
    "g = sns.boxplot(data=vienas , palette='rainbow', orient=\"h\", ax=ax)\n",
    "plt.xlabel('suma')\n",
    "plt.tight_layout()"
   ]
  },
  {
   "cell_type": "markdown",
   "id": "13f27330-14ea-4781-8f6a-f7faf5768428",
   "metadata": {},
   "source": [
    "Iš boxplot diagramų matome, kad \"Gyvybės draudimo įmokos\" turi labai daug išsiskiriančių reikšmių. Kyla klausimas dėl 60000 ribos duomenyse. Taip pat matome, kad didžiausią medianą turi \"Pastatų, statinių remonto, apdailos (išskyrus renovaciją) darbų išlaidos, o labiausiai svyruojančios išlaidų sumos yra dėl \"Būsto kredito, suteikto iki 2008-12-31, palūkanos\" ir \"Nepilnamečių (iki 18 metų) vaikų (įvaikių, globotinių, kuriems nustatyta nuolatinė globa šeimoje) priežiūros paslaugų išlaidos.\""
   ]
  },
  {
   "cell_type": "markdown",
   "id": "69aafa8a-be05-4873-a470-1bd2f06f74d0",
   "metadata": {},
   "source": [
    "Naudojame procentų $\\sum(1/2)^n$ progresiją. Šiuo būdu galime patikrinti, kokią sumą sudaro įmokos, kurias moka pvz. 50% mažiausiai sumokančių gyventojų arba mažiau nei 1% daugiausiai sumokančių gyventojų:"
   ]
  },
  {
   "cell_type": "code",
   "execution_count": 11,
   "id": "c9646046-fa30-4fd9-a161-176851a15702",
   "metadata": {},
   "outputs": [],
   "source": [
    "rusis_islaidos = islaidos.loc[islaidos['pavadinimas'] == 'Gyvybės draudimo įmokos.']\n",
    "\n",
    "_50H = rusis_islaidos.sort_values('suma', ascending = True).head(round(0.5*len(rusis_islaidos)))\n",
    "a = _50H['suma'].sum()\n",
    "_50T = rusis_islaidos.sort_values('suma', ascending = True).tail(round(0.5*len(rusis_islaidos)))\n",
    "\n",
    "_25H =_50T.sort_values('suma', ascending = True).head(round(0.5*len(_50T)))\n",
    "b = _25H['suma'].sum()\n",
    "_25T = _50T.sort_values('suma', ascending = True).tail(round(0.5*len(_50T)))\n",
    "\n",
    "_12_5H = _25T.sort_values('suma', ascending = True).head(round(0.5*len(_25T)))\n",
    "c = _12_5H['suma'].sum()\n",
    "_12_5T = _25T.sort_values('suma', ascending = True).tail(round(0.5*len(_25T)))\n",
    "\n",
    "_6_25H = _12_5T.sort_values('suma', ascending = True).head(round(0.5*len(_12_5T)))\n",
    "d = _6_25H['suma'].sum()\n",
    "_6_25T = _12_5T.sort_values('suma', ascending = True).tail(round(0.5*len(_12_5T)))\n",
    "\n",
    "_3_125H = _6_25T.sort_values('suma', ascending = True).head(round(0.5*len(_6_25T)))\n",
    "e = _3_125H['suma'].sum()\n",
    "_3_125T = _6_25T.sort_values('suma', ascending = True).tail(round(0.5*len(_6_25T)))\n",
    "\n",
    "_1_56H = _3_125T.sort_values('suma', ascending = True).head(round(0.5*len(_3_125T)))\n",
    "f = _1_56H['suma'].sum()\n",
    "_1_56T = _3_125T.sort_values('suma', ascending = True).tail(round(0.5*len(_3_125T)))\n",
    "\n",
    "_0_8H = _1_56T.sort_values('suma', ascending = True).head(round(0.5*len(_1_56T)))\n",
    "g = _0_8H['suma'].sum()\n",
    "\n",
    "_0_8T = _1_56T.sort_values('suma', ascending = True).tail(round(0.5*len(_1_56T)))\n",
    "h = _0_8T['suma'].sum()"
   ]
  },
  {
   "cell_type": "code",
   "execution_count": 12,
   "id": "4e3edf62-f836-4bcb-8e3c-79a4990545d9",
   "metadata": {},
   "outputs": [
    {
     "data": {
      "image/png": "[encoded data removed]",
      "text/plain": [
       "<Figure size 1440x720 with 1 Axes>"
      ]
     },
     "metadata": {
      "needs_background": "light"
     },
     "output_type": "display_data"
    }
   ],
   "source": [
    "fig = plt.figure()\n",
    "s = fig.add_subplot(111)\n",
    "s.bar([1, 2, 3, 4, 5, 6, 7, 8], [a, b, c, d, e, f, g, h], width=.5, log = True)\n",
    "# plt.ticklabel_format(style = 'plain')\n",
    "plt.xticks((1, 2, 3, 4, 5, 6, 7, 8), ('50%', '25%', '12.5%', '6.25%', '3.125%', '1.56%', '0.8%', '0.8%'))\n",
    "plt.show()"
   ]
  },
  {
   "cell_type": "code",
   "execution_count": 13,
   "id": "f408ba6b-d82b-4cb8-be91-d019ba37e7cb",
   "metadata": {},
   "outputs": [
    {
     "name": "stdout",
     "output_type": "stream",
     "text": [
      "[22.67, 23.06, 18.2, 12.33, 7.88, 4.97, 3.14, 7.75]\n"
     ]
    }
   ],
   "source": [
    "ciklui = rusis_islaidos.sort_values( by = 'suma', ascending = True)\n",
    "procentams = [a, b, c, d, e, f, g, h]\n",
    "percentage = []\n",
    "for i in procentams:\n",
    "    pct = (i / ciklui['suma'].sum()) * 100\n",
    "    percentage.append(round(pct,2))\n",
    "print(percentage)"
   ]
  },
  {
   "cell_type": "markdown",
   "id": "1c86f2ad-4beb-4fcd-9fe0-3bb1f8ee9746",
   "metadata": {},
   "source": [
    "# Vilniaus miesto ir Neringos savivaldybių išlaidų palyginimas"
   ]
  },
  {
   "cell_type": "markdown",
   "id": "b00bf352-17ef-4e20-8408-aab330998dca",
   "metadata": {},
   "source": [
    "Norėdami palyginti savivaldybes tarpusavyje, pirmiausia turime jas normalizuoti pagal gyventojų skaičių. Tam esame nusiskaitę duomenis iš gyventojų registro apie Lietuvos gyventojų amžių ir lytį pagal savivaldybes"
   ]
  },
  {
   "cell_type": "markdown",
   "id": "ae84ab81-c3e2-4f04-83d1-9024b55a3aaf",
   "metadata": {},
   "source": [
    "Pasirenkame palyginti būtent Neringos ir Vilniaus miesto savivaldybes, nes apskaičiavus visų išlaidų sumos medianą, paaiškėja, jog Neringos savivaldybėje išlaidų dydžiai yra aukščiausi. "
   ]
  },
  {
   "cell_type": "code",
   "execution_count": 14,
   "id": "d622bf4d-af52-4da5-88f4-9b7d7cc36d66",
   "metadata": {},
   "outputs": [
    {
     "data": {
      "text/html": [
       "<div>\n",
       "<style scoped>\n",
       "    .dataframe tbody tr th:only-of-type {\n",
       "        vertical-align: middle;\n",
       "    }\n",
       "\n",
       "    .dataframe tbody tr th {\n",
       "        vertical-align: top;\n",
       "    }\n",
       "\n",
       "    .dataframe thead th {\n",
       "        text-align: right;\n",
       "    }\n",
       "</style>\n",
       "<table border=\"1\" class=\"dataframe\">\n",
       "  <thead>\n",
       "    <tr style=\"text-align: right;\">\n",
       "      <th></th>\n",
       "      <th>suma</th>\n",
       "    </tr>\n",
       "    <tr>\n",
       "      <th>sav_pavadinimas</th>\n",
       "      <th></th>\n",
       "    </tr>\n",
       "  </thead>\n",
       "  <tbody>\n",
       "    <tr>\n",
       "      <th>Neringos sav.</th>\n",
       "      <td>615.0</td>\n",
       "    </tr>\n",
       "    <tr>\n",
       "      <th>Palangos m. sav.</th>\n",
       "      <td>559.0</td>\n",
       "    </tr>\n",
       "    <tr>\n",
       "      <th>Skuodo r. sav.</th>\n",
       "      <td>540.0</td>\n",
       "    </tr>\n",
       "    <tr>\n",
       "      <th>Birštono sav.</th>\n",
       "      <td>540.0</td>\n",
       "    </tr>\n",
       "    <tr>\n",
       "      <th>Pagėgių sav.</th>\n",
       "      <td>522.0</td>\n",
       "    </tr>\n",
       "  </tbody>\n",
       "</table>\n",
       "</div>"
      ],
      "text/plain": [
       "                   suma\n",
       "sav_pavadinimas        \n",
       "Neringos sav.     615.0\n",
       "Palangos m. sav.  559.0\n",
       "Skuodo r. sav.    540.0\n",
       "Birštono sav.     540.0\n",
       "Pagėgių sav.      522.0"
      ]
     },
     "execution_count": 14,
     "metadata": {},
     "output_type": "execute_result"
    }
   ],
   "source": [
    "mediana = islaidos.groupby(['sav_pavadinimas'])['suma'].median().sort_values(ascending = False)\n",
    "mediana.head().to_frame()"
   ]
  },
  {
   "cell_type": "markdown",
   "id": "9e37e0a3-5b00-45db-96ad-0d4beffef409",
   "metadata": {},
   "source": [
    "Todėl lyginame jas dalindami visų išlaidų rūšių bendras sumas iš toje savivaldybėje gyvenančių gyventojų skaičiaus, šiuos duomenis gauname iš gyventojų registro. "
   ]
  },
  {
   "cell_type": "code",
   "execution_count": 15,
   "id": "1c025aad-f05c-4ad4-8d6a-3450c791ab5f",
   "metadata": {},
   "outputs": [
    {
     "data": {
      "text/html": [
       "<div>\n",
       "<style scoped>\n",
       "    .dataframe tbody tr th:only-of-type {\n",
       "        vertical-align: middle;\n",
       "    }\n",
       "\n",
       "    .dataframe tbody tr th {\n",
       "        vertical-align: top;\n",
       "    }\n",
       "\n",
       "    .dataframe thead th {\n",
       "        text-align: right;\n",
       "    }\n",
       "</style>\n",
       "<table border=\"1\" class=\"dataframe\">\n",
       "  <thead>\n",
       "    <tr style=\"text-align: right;\">\n",
       "      <th></th>\n",
       "      <th>suma</th>\n",
       "    </tr>\n",
       "    <tr>\n",
       "      <th>pavadinimas</th>\n",
       "      <th></th>\n",
       "    </tr>\n",
       "  </thead>\n",
       "  <tbody>\n",
       "    <tr>\n",
       "      <th>Būsto kredito, suteikto iki 2008-12-31, palūkanos.</th>\n",
       "      <td>10.442536</td>\n",
       "    </tr>\n",
       "    <tr>\n",
       "      <th>Grąžintas studijų kreditas.</th>\n",
       "      <td>1.798399</td>\n",
       "    </tr>\n",
       "    <tr>\n",
       "      <th>Gyvybės draudimo įmokos.</th>\n",
       "      <td>99.473558</td>\n",
       "    </tr>\n",
       "    <tr>\n",
       "      <th>Lengvųjų automobilių remonto paslaugų išlaidos (neįskaitant atsarginių detalių, eksploatacinių medžiagų kainos).</th>\n",
       "      <td>3.172512</td>\n",
       "    </tr>\n",
       "    <tr>\n",
       "      <th>Nepilnamečių (iki 18 metų) vaikų (įvaikių, globotinių, kuriems nustatyta nuolatinė globa šeimoje) priežiūros paslaugų išlaidos.</th>\n",
       "      <td>0.578828</td>\n",
       "    </tr>\n",
       "    <tr>\n",
       "      <th>Pastatų, statinių remonto, apdailos (išskyrus renovaciją) darbų išlaidos.</th>\n",
       "      <td>13.485207</td>\n",
       "    </tr>\n",
       "    <tr>\n",
       "      <th>Pensijų kaupimo įmokos.</th>\n",
       "      <td>12.192533</td>\n",
       "    </tr>\n",
       "    <tr>\n",
       "      <th>Įmokos už aukštąjį ar profesinį mokymąsi.</th>\n",
       "      <td>20.416404</td>\n",
       "    </tr>\n",
       "    <tr>\n",
       "      <th>Įmokų į pensijų fondą dalis, viršijanti 3 procentus gyventojo pajamų, nuo kurių mokamos valstybinio socialinio draudimo įmokos.</th>\n",
       "      <td>0.731968</td>\n",
       "    </tr>\n",
       "  </tbody>\n",
       "</table>\n",
       "</div>"
      ],
      "text/plain": [
       "                                                                                                                                      suma\n",
       "pavadinimas                                                                                                                               \n",
       "Būsto kredito, suteikto iki 2008-12-31, palūkanos.                                                                               10.442536\n",
       "Grąžintas studijų kreditas.                                                                                                       1.798399\n",
       "Gyvybės draudimo įmokos.                                                                                                         99.473558\n",
       "Lengvųjų automobilių remonto paslaugų išlaidos (neįskaitant atsarginių detalių, eksploatacinių medžiagų kainos).                  3.172512\n",
       "Nepilnamečių (iki 18 metų) vaikų (įvaikių, globotinių, kuriems nustatyta nuolatinė globa šeimoje) priežiūros paslaugų išlaidos.   0.578828\n",
       "Pastatų, statinių remonto, apdailos (išskyrus renovaciją) darbų išlaidos.                                                        13.485207\n",
       "Pensijų kaupimo įmokos.                                                                                                          12.192533\n",
       "Įmokos už aukštąjį ar profesinį mokymąsi.                                                                                        20.416404\n",
       "Įmokų į pensijų fondą dalis, viršijanti 3 procentus gyventojo pajamų, nuo kurių mokamos valstybinio socialinio draudimo įmokos.   0.731968"
      ]
     },
     "execution_count": 15,
     "metadata": {},
     "output_type": "execute_result"
    }
   ],
   "source": [
    "vilnius = islaidos.loc[islaidos['sav_pavadinimas'] == 'Vilniaus m. sav.']\n",
    "vilnius1 = rc.loc[rc['sav_pavadinimas'] == 'Vilniaus m. sav.']\n",
    "is_viso_vilnius = vilnius1.shape[0]\n",
    "vilnius_dal_2 = vilnius.groupby(['pavadinimas'])['suma'].sum()/(is_viso_vilnius)\n",
    "vilnius_dal_2.to_frame()"
   ]
  },
  {
   "cell_type": "code",
   "execution_count": 16,
   "id": "3484cb98-3332-4a46-8bb2-7469a292c898",
   "metadata": {},
   "outputs": [
    {
     "data": {
      "text/html": [
       "<div>\n",
       "<style scoped>\n",
       "    .dataframe tbody tr th:only-of-type {\n",
       "        vertical-align: middle;\n",
       "    }\n",
       "\n",
       "    .dataframe tbody tr th {\n",
       "        vertical-align: top;\n",
       "    }\n",
       "\n",
       "    .dataframe thead th {\n",
       "        text-align: right;\n",
       "    }\n",
       "</style>\n",
       "<table border=\"1\" class=\"dataframe\">\n",
       "  <thead>\n",
       "    <tr style=\"text-align: right;\">\n",
       "      <th></th>\n",
       "      <th>suma</th>\n",
       "    </tr>\n",
       "    <tr>\n",
       "      <th>pavadinimas</th>\n",
       "      <th></th>\n",
       "    </tr>\n",
       "  </thead>\n",
       "  <tbody>\n",
       "    <tr>\n",
       "      <th>Būsto kredito, suteikto iki 2008-12-31, palūkanos.</th>\n",
       "      <td>24.978014</td>\n",
       "    </tr>\n",
       "    <tr>\n",
       "      <th>Grąžintas studijų kreditas.</th>\n",
       "      <td>2.251137</td>\n",
       "    </tr>\n",
       "    <tr>\n",
       "      <th>Gyvybės draudimo įmokos.</th>\n",
       "      <td>202.992987</td>\n",
       "    </tr>\n",
       "    <tr>\n",
       "      <th>Lengvųjų automobilių remonto paslaugų išlaidos (neįskaitant atsarginių detalių, eksploatacinių medžiagų kainos).</th>\n",
       "      <td>4.307430</td>\n",
       "    </tr>\n",
       "    <tr>\n",
       "      <th>Nepilnamečių (iki 18 metų) vaikų (įvaikių, globotinių, kuriems nustatyta nuolatinė globa šeimoje) priežiūros paslaugų išlaidos.</th>\n",
       "      <td>0.676080</td>\n",
       "    </tr>\n",
       "    <tr>\n",
       "      <th>Pastatų, statinių remonto, apdailos (išskyrus renovaciją) darbų išlaidos.</th>\n",
       "      <td>17.137604</td>\n",
       "    </tr>\n",
       "    <tr>\n",
       "      <th>Pensijų kaupimo įmokos.</th>\n",
       "      <td>13.765732</td>\n",
       "    </tr>\n",
       "    <tr>\n",
       "      <th>Įmokos už aukštąjį ar profesinį mokymąsi.</th>\n",
       "      <td>41.267817</td>\n",
       "    </tr>\n",
       "    <tr>\n",
       "      <th>Įmokų į pensijų fondą dalis, viršijanti 3 procentus gyventojo pajamų, nuo kurių mokamos valstybinio socialinio draudimo įmokos.</th>\n",
       "      <td>0.232942</td>\n",
       "    </tr>\n",
       "  </tbody>\n",
       "</table>\n",
       "</div>"
      ],
      "text/plain": [
       "                                                                                                                                       suma\n",
       "pavadinimas                                                                                                                                \n",
       "Būsto kredito, suteikto iki 2008-12-31, palūkanos.                                                                                24.978014\n",
       "Grąžintas studijų kreditas.                                                                                                        2.251137\n",
       "Gyvybės draudimo įmokos.                                                                                                         202.992987\n",
       "Lengvųjų automobilių remonto paslaugų išlaidos (neįskaitant atsarginių detalių, eksploatacinių medžiagų kainos).                   4.307430\n",
       "Nepilnamečių (iki 18 metų) vaikų (įvaikių, globotinių, kuriems nustatyta nuolatinė globa šeimoje) priežiūros paslaugų išlaidos.    0.676080\n",
       "Pastatų, statinių remonto, apdailos (išskyrus renovaciją) darbų išlaidos.                                                         17.137604\n",
       "Pensijų kaupimo įmokos.                                                                                                           13.765732\n",
       "Įmokos už aukštąjį ar profesinį mokymąsi.                                                                                         41.267817\n",
       "Įmokų į pensijų fondą dalis, viršijanti 3 procentus gyventojo pajamų, nuo kurių mokamos valstybinio socialinio draudimo įmokos.    0.232942"
      ]
     },
     "execution_count": 16,
     "metadata": {},
     "output_type": "execute_result"
    }
   ],
   "source": [
    "neringa = islaidos.loc[islaidos['sav_pavadinimas'] == 'Neringos sav.']\n",
    "neringa1 = rc.loc[rc['sav_pavadinimas'] == 'Neringos sav.']\n",
    "is_viso_neringa = neringa1.shape[0]\n",
    "neringa_dal_2 = neringa.groupby(['pavadinimas'])['suma'].sum()/(is_viso_neringa)\n",
    "neringa_dal_2.to_frame()"
   ]
  },
  {
   "cell_type": "markdown",
   "id": "eb79d476-ce92-4c69-ad36-39ec14f8ebbd",
   "metadata": {},
   "source": [
    "Peržiūrėjus abi lenteles galime daryti išvadą, jog Neringos savivaldybėje gyvena turtingesni žmonės ir, kad ten pragyvenimas greičiausiai kainuoja daugiau, nei Vilniaus miesto savivaldybėje, kadangi beveik visos apskaičiuotos sumos Neringos savivaldybėje lenkia Vilniaus miesto savivaldybės išlaidas"
   ]
  }
 ],
 "metadata": {
  "kernelspec": {
   "display_name": "Python 3 (ipykernel)",
   "language": "python",
   "name": "python3"
  },
  "language_info": {
   "codemirror_mode": {
    "name": "ipython",
    "version": 3
   },
   "file_extension": ".py",
   "mimetype": "text/x-python",
   "name": "python",
   "nbconvert_exporter": "python",
   "pygments_lexer": "ipython3",
   "version": "3.9.12"
  }
 },
 "nbformat": 4,
 "nbformat_minor": 5
}
