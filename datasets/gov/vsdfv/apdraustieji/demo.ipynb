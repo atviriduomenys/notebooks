{
 "cells": [
  {
   "cell_type": "code",
   "execution_count": null,
   "id": "69b03973",
   "metadata": {},
   "outputs": [],
   "source": [
    "#pertvarkyti percentges"
   ]
  },
  {
   "cell_type": "markdown",
   "id": "d9955924",
   "metadata": {},
   "source": [
    "Duomenų rinkiniai:\n",
    "\n",
    "1. Apdraustieji\n",
    "   https://data.gov.lt/dataset/apdraustieji"
   ]
  },
  {
   "cell_type": "code",
   "execution_count": null,
   "id": "cea0b71d",
   "metadata": {},
   "outputs": [],
   "source": [
    "http -bd https://atvira.sodra.lt/downloads/lt-eur/apdraustieji_ketv.zip\n",
    "\n",
    "#| Done. 177.4 kB in 00:0.11224 (1.6 MB/s)"
   ]
  },
  {
   "cell_type": "markdown",
   "id": "d23eb5df",
   "metadata": {},
   "source": [
    "2. Socialinio draudimo įmokos\n",
    "   https://data.gov.lt/dataset/socialinio-draudimo-pensijos"
   ]
  },
  {
   "cell_type": "code",
   "execution_count": null,
   "id": "8466e74f",
   "metadata": {},
   "outputs": [],
   "source": [
    "http -bd https://atvira.sodra.lt/downloads/lt-eur/apdraustieji_ketv.zip"
   ]
  },
  {
   "cell_type": "markdown",
   "id": "16e1a1ce",
   "metadata": {},
   "source": [
    "3. Vidutinės apdraustųjų pajamos.\n",
    "   https://data.gov.lt/dataset/vidutines-apdraustuju-pajamos"
   ]
  },
  {
   "cell_type": "code",
   "execution_count": null,
   "id": "5e41ffb7",
   "metadata": {},
   "outputs": [],
   "source": [
    "http -bd https://atvira.sodra.lt/downloads/lt-eur/apdraustieji_det.zip\n",
    "#| Done. 5.4 MB in 00:0.56334 (9.6 MB/s)"
   ]
  },
  {
   "cell_type": "code",
   "execution_count": null,
   "id": "87b28aa1",
   "metadata": {},
   "outputs": [],
   "source": [
    "http -bd https://atvira.sodra.lt/downloads/lt-eur/apdraustuju_pajamu_analize.zip\n",
    "#| Done. 6.6 MB in 00:0.64270 (10.3 MB/s)"
   ]
  },
  {
   "cell_type": "code",
   "execution_count": null,
   "id": "4e2b16b9",
   "metadata": {},
   "outputs": [],
   "source": [
    "http -bd https://atvira.sodra.lt/csv/lt-eur/apdraustieji_6_5.csv\n",
    "#| Done. 90.7 MB in 00:7.77662 (11.7 MB/s)"
   ]
  },
  {
   "cell_type": "markdown",
   "id": "6b50fa1b",
   "metadata": {},
   "source": [
    "Norint atvaizduoti duomenis žemėlapyje pirmiausia užsikraunam RC AR duomenis.\n",
    "https://data.gov.lt/dataset/adresu-registro-savivaldybiu-erdviniai-duomenys"
   ]
  },
  {
   "cell_type": "code",
   "execution_count": null,
   "id": "79d458eb",
   "metadata": {},
   "outputs": [],
   "source": [
    "sav = gp.read_file('https://www.registrucentras.lt/aduomenys/?byla=adr_gra_savivaldybes.json')"
   ]
  },
  {
   "cell_type": "code",
   "execution_count": null,
   "id": "b21f97ff",
   "metadata": {},
   "outputs": [],
   "source": [
    "unzip apdraustieji_ketv.zip\n",
    "unzip apdraustieji_det.zip\n",
    "unzip apdraustuju_pajamu_analize.zip\n",
    "cat skaityti.txt"
   ]
  },
  {
   "cell_type": "code",
   "execution_count": null,
   "id": "678cec1a",
   "metadata": {},
   "outputs": [],
   "source": [
    "du -sh *.csv\n",
    "#| 87M     apdraustieji_6_5.csv\n",
    "#| 113M    apdraustieji_det.csv\n",
    "#| 2,8M    apdraustieji_ketv.csv\n",
    "#| 56M     apdraustuju_pajamu_analize.csv"
   ]
  },
  {
   "cell_type": "code",
   "execution_count": null,
   "id": "58175bd7",
   "metadata": {},
   "outputs": [],
   "source": [
    "wc -l *.csv"
   ]
  },
  {
   "cell_type": "code",
   "execution_count": null,
   "id": "89d4befc",
   "metadata": {},
   "outputs": [],
   "source": [
    "poetry init -n\n",
    "poetry add pandas geopandas matplotlib\n",
    "poetry run python"
   ]
  },
  {
   "cell_type": "code",
   "execution_count": null,
   "id": "7f75d398",
   "metadata": {},
   "outputs": [],
   "source": [
    "import pandas as pd"
   ]
  },
  {
   "cell_type": "markdown",
   "id": "7bc2aa9a",
   "metadata": {},
   "source": [
    "Užsikraunam duomenis\n",
    "********************"
   ]
  },
  {
   "cell_type": "markdown",
   "id": "c7f45bbc",
   "metadata": {
    "lines_to_next_cell": 0
   },
   "source": [
    "1. Apdraustieji"
   ]
  },
  {
   "cell_type": "code",
   "execution_count": null,
   "id": "8034fd34",
   "metadata": {},
   "outputs": [],
   "source": [
    "apdraustieji = pd.read_csv('apdraustieji_ketv.csv', encoding='cp1257', sep=';')"
   ]
  },
  {
   "cell_type": "markdown",
   "id": "712e78c0",
   "metadata": {},
   "source": [
    "2. Socialinio draudimo įmokos"
   ]
  },
  {
   "cell_type": "markdown",
   "id": "221f7843",
   "metadata": {},
   "source": [
    "3. Vidutinės apdraustųjų pajamos."
   ]
  },
  {
   "cell_type": "code",
   "execution_count": null,
   "id": "cdadf999",
   "metadata": {},
   "outputs": [],
   "source": [
    "apdraustieji_det = pd.read_csv('apdraustieji_det.csv', encoding='cp1257', sep=';')\n",
    "pajamu_analize = pd.read_csv('apdraustuju_pajamu_analize.csv', encoding='cp1257', sep=';')\n",
    "pajamos = pd.read_csv('apdraustieji_6_5.csv', encoding='cp1257', sep=';')"
   ]
  },
  {
   "cell_type": "markdown",
   "id": "727e0f41",
   "metadata": {},
   "source": [
    "Apsižvalgom\n",
    "***********"
   ]
  },
  {
   "cell_type": "markdown",
   "id": "8cc188e1",
   "metadata": {},
   "source": [
    "1. Apdraustieji"
   ]
  },
  {
   "cell_type": "code",
   "execution_count": null,
   "id": "2da3345f",
   "metadata": {},
   "outputs": [],
   "source": [
    "apdraustieji.info()\n",
    "#| RangeIndex: 9625 entries, 0 to 9624\n",
    "#| Data columns (total 12 columns):\n",
    "#|  #   Column                      Non-Null Count  Dtype\n",
    "#| ---  ------                      --------------  -----\n",
    "#|  0   METAI                       9625 non-null   float64\n",
    "#|  1   KETVIRTIS                   9625 non-null   float64\n",
    "#|  2   APDR_KATEG_GRUPE            9625 non-null   object\n",
    "#|  3   APDR_KATEG_RUSIS            9625 non-null   object\n",
    "#|  4   APDR_KATEG_PORUSIS          7833 non-null   object\n",
    "#|  5   APDR_KATEG_TIPAS            5175 non-null   object\n",
    "#|  6   DRAUDEJO_GRUPE              9625 non-null   object\n",
    "#|  7   DRAUDEJO_TIPAS              9189 non-null   object\n",
    "#|  8   PRISK_SUMA_EUR              6410 non-null   float64\n",
    "#|  9   SUMOKETA_EUR                6403 non-null   float64\n",
    "#|  10  VID_A_DARBO_APMOK_SUMA_EUR  5339 non-null   float64\n",
    "#|  11  VID_B_APDRAUSTUJU_SK        9625 non-null   float64\n",
    "#| dtypes: float64(6), object(6)\n",
    "#| memory usage: 902.5+ KB"
   ]
  },
  {
   "cell_type": "code",
   "execution_count": null,
   "id": "3b3e79b0",
   "metadata": {},
   "outputs": [],
   "source": [
    "apdraustieji.nunique()\n",
    "#| METAI                           14\n",
    "#| KETVIRTIS                        4\n",
    "#| APDR_KATEG_GRUPE                 3\n",
    "#| APDR_KATEG_RUSIS                17\n",
    "#| APDR_KATEG_PORUSIS              31\n",
    "#| APDR_KATEG_TIPAS                12\n",
    "#| DRAUDEJO_GRUPE                   2\n",
    "#| DRAUDEJO_TIPAS                  27\n",
    "#| PRISK_SUMA_EUR                2776\n",
    "#| SUMOKETA_EUR                  2746\n",
    "#| VID_A_DARBO_APMOK_SUMA_EUR    5143\n",
    "#| VID_B_APDRAUSTUJU_SK          3824"
   ]
  },
  {
   "cell_type": "code",
   "execution_count": null,
   "id": "d565138c",
   "metadata": {},
   "outputs": [],
   "source": [
    "apdraustieji.head(2).T\n",
    "#|                                                                             0                                                  1\n",
    "#| METAI                                                                  2009.0                                             2009.0\n",
    "#| KETVIRTIS                                                                 1.0                                                1.0\n",
    "#| APDR_KATEG_GRUPE                        1. Asmenys, už kuriuos mokamos įmokos              1. Asmenys, už kuriuos mokamos įmokos\n",
    "#| APDR_KATEG_RUSIS            1.1. Asmenys, draudžiami visų rūšių valstybini...  1.1. Asmenys, draudžiami visų rūšių valstybini...\n",
    "#| APDR_KATEG_PORUSIS                                                        NaN                                                NaN\n",
    "#| APDR_KATEG_TIPAS                                                          NaN                                                NaN\n",
    "#| DRAUDEJO_GRUPE                                Valstybės, biudžetinės įstaigos                    Valstybės, biudžetinės įstaigos\n",
    "#| DRAUDEJO_TIPAS                                           05. Valstybės įmonės                           25. Biudžetinės įstaigos\n",
    "#| PRISK_SUMA_EUR                                                        16804.8                                           179760.0\n",
    "#| SUMOKETA_EUR                                                          15760.1                                           141951.3\n",
    "#| VID_A_DARBO_APMOK_SUMA_EUR                                         42012404.7                                        449664104.8\n",
    "#| VID_B_APDRAUSTUJU_SK                                                 17693.98                                          249955.08"
   ]
  },
  {
   "cell_type": "markdown",
   "id": "5789ce4a",
   "metadata": {},
   "source": [
    "2. Socialinio draudimo įmokos"
   ]
  },
  {
   "cell_type": "markdown",
   "id": "e1746210",
   "metadata": {},
   "source": [
    "3. Vidutinės apdraustųjų pajamos."
   ]
  },
  {
   "cell_type": "code",
   "execution_count": null,
   "id": "3cbf307e",
   "metadata": {},
   "outputs": [],
   "source": [
    "apdraustieji_det.info()\n",
    "#| RangeIndex: 554490 entries, 0 to 554489\n",
    "#| Data columns (total 10 columns):\n",
    "#|  #   Column             Non-Null Count   Dtype\n",
    "#| ---  ------             --------------   -----\n",
    "#|  0   AGREGAVIMAS        554490 non-null  object\n",
    "#|  1   METU_MENUO         554490 non-null  object\n",
    "#|  2   APDRAUSTUJU_RUSIS  554490 non-null  object\n",
    "#|  3   DRAUDEJO_GRUPE     5014 non-null    object\n",
    "#|  4   DRAUDEJO_TIPAS     19876 non-null   object\n",
    "#|  5   SAVIVALDYBE        466239 non-null  object\n",
    "#|  6   LYTIS              313332 non-null  object\n",
    "#|  7   AMZIUS             42459 non-null   object\n",
    "#|  8   DARBO_UZMOK_EUR    155812 non-null  float64\n",
    "#|  9   APDR_ASM_SK        554490 non-null  float64\n",
    "#| dtypes: float64(2), object(8)\n",
    "#| memory usage: 42.3+ MB"
   ]
  },
  {
   "cell_type": "code",
   "execution_count": null,
   "id": "0fb91645",
   "metadata": {},
   "outputs": [],
   "source": [
    "apdraustieji_det.nunique()\n",
    "#| AGREGAVIMAS               8\n",
    "#| METU_MENUO              148\n",
    "#| APDRAUSTUJU_RUSIS        36\n",
    "#| DRAUDEJO_GRUPE            2\n",
    "#| DRAUDEJO_TIPAS           27\n",
    "#| SAVIVALDYBE              61\n",
    "#| LYTIS                     3\n",
    "#| AMZIUS                   20\n",
    "#| DARBO_UZMOK_EUR      114736\n",
    "#| APDR_ASM_SK           21802"
   ]
  },
  {
   "cell_type": "code",
   "execution_count": null,
   "id": "229465a7",
   "metadata": {},
   "outputs": [],
   "source": [
    "apdraustieji_det.head(2).T\n",
    "#|                                                                    0                                                  1\n",
    "#| AGREGAVIMAS                        Draudėjų grupė, apdraustųjų rūšys                  Draudėjų grupė, apdraustųjų rūšys\n",
    "#| METU_MENUO                                              2010-01 mėn.                                       2010-01 mėn.\n",
    "#| APDRAUSTUJU_RUSIS  Apdraustieji visomis valstybinio socialinio dr...  Apdraustieji visomis valstybinio socialinio dr...\n",
    "#| DRAUDEJO_GRUPE                                        Kiti draudėjai                    Valstybės, biudžetinės įstaigos\n",
    "#| DRAUDEJO_TIPAS                                                   NaN                                                NaN\n",
    "#| SAVIVALDYBE                                                      NaN                                                NaN\n",
    "#| LYTIS                                                            NaN                                                NaN\n",
    "#| AMZIUS                                                           NaN                                                NaN\n",
    "#| DARBO_UZMOK_EUR                                         406526120.44                                       127385656.89\n",
    "#| APDR_ASM_SK                                                 914052.0                                           346662.0"
   ]
  },
  {
   "cell_type": "code",
   "execution_count": null,
   "id": "3833ee7e",
   "metadata": {},
   "outputs": [],
   "source": [
    "pajamu_analize.info()\n",
    "#| RangeIndex: 1152984 entries, 0 to 1152983\n",
    "#| Data columns (total 6 columns):\n",
    "#|  #   Column           Non-Null Count    Dtype\n",
    "#| ---  ------           --------------    -----\n",
    "#|  0   metai            1152984 non-null  float64\n",
    "#|  1   mėnuo            1152984 non-null  float64\n",
    "#|  2   amžius           1152984 non-null  float64\n",
    "#|  3   lytis            1152984 non-null  object\n",
    "#|  4   savivaldybe      1152984 non-null  object\n",
    "#|  5   mėnesio pajamos  1152984 non-null  float64\n",
    "#| dtypes: float64(4), object(2)\n",
    "#| memory usage: 52.8+ MB"
   ]
  },
  {
   "cell_type": "code",
   "execution_count": null,
   "id": "63731127",
   "metadata": {},
   "outputs": [],
   "source": [
    "pajamu_analize.nunique()\n",
    "#| metai                   1\n",
    "#| mėnuo                   1\n",
    "#| amžius                 85\n",
    "#| lytis                   2\n",
    "#| savivaldybe            61\n",
    "#| mėnesio pajamos    304717"
   ]
  },
  {
   "cell_type": "code",
   "execution_count": null,
   "id": "fc7be5ad",
   "metadata": {},
   "outputs": [],
   "source": [
    "pajamu_analize.head(2).T\n",
    "#|                                 0                 1\n",
    "#| metai                      2022.0            2022.0\n",
    "#| mėnuo                         4.0               4.0\n",
    "#| amžius                       53.0              54.0\n",
    "#| lytis                     Moteris             Vyras\n",
    "#| savivaldybe      Vilniaus m. sav.  Vilniaus m. sav.\n",
    "#| mėnesio pajamos             444.0           1470.05"
   ]
  },
  {
   "cell_type": "code",
   "execution_count": null,
   "id": "8974ce45",
   "metadata": {},
   "outputs": [],
   "source": [
    "pajamos.info()\n",
    "#| RangeIndex: 799592 entries, 0 to 799591\n",
    "#| Data columns (total 6 columns):\n",
    "#|  #   Column           Non-Null Count   Dtype\n",
    "#| ---  ------           --------------   -----\n",
    "#|  0   METAI            799592 non-null  float64\n",
    "#|  1   MENUO            799592 non-null  float64\n",
    "#|  2   EVR_PAVADINIMAS  799592 non-null  object\n",
    "#|  3   PROFESIJA        799592 non-null  object\n",
    "#|  4   APDR_SK          799592 non-null  float64\n",
    "#|  5   VID_PAJAMOS      787978 non-null  float64\n",
    "#| dtypes: float64(4), object(2)\n",
    "#| memory usage: 36.6+ MB"
   ]
  },
  {
   "cell_type": "code",
   "execution_count": null,
   "id": "9cdc9e1b",
   "metadata": {},
   "outputs": [],
   "source": [
    "pajamos.nunique()\n",
    "#| METAI                   3\n",
    "#| MENUO                  12\n",
    "#| EVR_PAVADINIMAS       946\n",
    "#| PROFESIJA             431\n",
    "#| APDR_SK              3051\n",
    "#| VID_PAJAMOS        258992"
   ]
  },
  {
   "cell_type": "code",
   "execution_count": null,
   "id": "e4117f59",
   "metadata": {},
   "outputs": [],
   "source": [
    "pajamos.head(2).T\n",
    "#|                                                           0                                                  1\n",
    "#| METAI                                                2020.0                                             2020.0\n",
    "#| MENUO                                                  12.0                                               12.0\n",
    "#| EVR_PAVADINIMAS                     Kitos įrangos įrengimas     Azartinių lošimų ir lažybų organizavimo veikla\n",
    "#| PROFESIJA        7412 Elektromechanikai ir elektromonteriai  4212 Lažybų tarpininkai, lošimo namų tarnautoj...\n",
    "#| APDR_SK                                                67.0                                              400.0\n",
    "#| VID_PAJAMOS                                         1756.61                                             601.36"
   ]
  }
 ],
 "metadata": {
  "kernelspec": {
   "display_name": "Python 3 (ipykernel)",
   "language": "python",
   "name": "python3"
  }
 },
 "nbformat": 4,
 "nbformat_minor": 5
}
