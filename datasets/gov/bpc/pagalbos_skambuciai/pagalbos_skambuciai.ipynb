{
 "cells": [
  {
   "cell_type": "markdown",
   "id": "aa0c1110-3c51-4110-bb70-6851544f7d45",
   "metadata": {
    "tags": []
   },
   "source": [
    "# DUOMENŲ NUSKAITYMAS/PASIRUOŠIMAS"
   ]
  },
  {
   "cell_type": "code",
   "execution_count": 1,
   "id": "21acbfda-9cb3-4b17-b726-c2e45edacb86",
   "metadata": {},
   "outputs": [],
   "source": [
    "import pandas as pd\n",
    "import matplotlib.pyplot as plt\n",
    "import matplotlib as mpl\n",
    "import seaborn as sns\n",
    "import numpy as np\n",
    "from matplotlib.ticker import StrMethodFormatter\n",
    "from pathlib import Path\n",
    "%matplotlib inline\n",
    "from itertools import combinations\n",
    "from collections import Counter"
   ]
  },
  {
   "cell_type": "code",
   "execution_count": 4,
   "id": "9303452d-99d1-4c17-80ed-8b4dec7c1d9f",
   "metadata": {},
   "outputs": [],
   "source": [
    "data_dir = Path().resolve().parents[3] / 'data'\n",
    "klas = pd.read_csv(data_dir / \"datasets/gov/bpc/pagalbos_skambuciai/IvykiuKlasifikatorius.csv\")\n",
    "laik = pd.read_csv(data_dir / \"datasets/gov/bpc/pagalbos_skambuciai/IvykiuLaikas.csv\")"
   ]
  },
  {
   "cell_type": "markdown",
   "id": "8d9969bd-8684-4fce-927a-76221e8714cf",
   "metadata": {
    "tags": []
   },
   "source": [
    "# ĮVYKIŲ KLASIFIKATORIUS. Keli pastebėjimai"
   ]
  },
  {
   "cell_type": "code",
   "execution_count": 5,
   "id": "829746c8-39c8-4805-ac02-35b4a04150d4",
   "metadata": {},
   "outputs": [
    {
     "data": {
      "text/html": [
       "<div>\n",
       "<style scoped>\n",
       "    .dataframe tbody tr th:only-of-type {\n",
       "        vertical-align: middle;\n",
       "    }\n",
       "\n",
       "    .dataframe tbody tr th {\n",
       "        vertical-align: top;\n",
       "    }\n",
       "\n",
       "    .dataframe thead th {\n",
       "        text-align: right;\n",
       "    }\n",
       "</style>\n",
       "<table border=\"1\" class=\"dataframe\">\n",
       "  <thead>\n",
       "    <tr style=\"text-align: right;\">\n",
       "      <th></th>\n",
       "      <th>_type</th>\n",
       "      <th>_id</th>\n",
       "      <th>_revision</th>\n",
       "      <th>ivykio_tipo_kodas</th>\n",
       "      <th>aukstesnis_ivykio_tipas</th>\n",
       "      <th>zemesnis_ivykio_tipas</th>\n",
       "    </tr>\n",
       "  </thead>\n",
       "  <tbody>\n",
       "    <tr>\n",
       "      <th>0</th>\n",
       "      <td>datasets/gov/bpc/pagalbos_skambuciai/IvykiuKla...</td>\n",
       "      <td>e01d8ee9-3fc6-40d3-bcfc-fd97ce96bf0b</td>\n",
       "      <td>080fe4e2-843a-4f86-90d0-6eab89caabc6</td>\n",
       "      <td>1.1</td>\n",
       "      <td>Aplinkosauga</td>\n",
       "      <td>Įvykiai dėl kurių gali kilti ar kilo pavojus g...</td>\n",
       "    </tr>\n",
       "    <tr>\n",
       "      <th>1</th>\n",
       "      <td>datasets/gov/bpc/pagalbos_skambuciai/IvykiuKla...</td>\n",
       "      <td>0f54c3fe-154c-4e2e-b0ee-5ba58b5e101b</td>\n",
       "      <td>44d33c33-e63d-4e6b-85a5-9fb82647341a</td>\n",
       "      <td>1.2</td>\n",
       "      <td>Aplinkosauga</td>\n",
       "      <td>Įvykiai su laukiniais gyvūnais</td>\n",
       "    </tr>\n",
       "    <tr>\n",
       "      <th>2</th>\n",
       "      <td>datasets/gov/bpc/pagalbos_skambuciai/IvykiuKla...</td>\n",
       "      <td>a5297115-60fa-4f39-bf2c-4ef7237e5859</td>\n",
       "      <td>67de496f-71c9-4960-9247-1113cc66ffed</td>\n",
       "      <td>1.3</td>\n",
       "      <td>Aplinkosauga</td>\n",
       "      <td>Teisės pažeidimai aplinkosaugos srityje</td>\n",
       "    </tr>\n",
       "    <tr>\n",
       "      <th>3</th>\n",
       "      <td>datasets/gov/bpc/pagalbos_skambuciai/IvykiuKla...</td>\n",
       "      <td>bbce1603-0fc2-4354-93ce-93acb479c0f7</td>\n",
       "      <td>a1d5c98d-c701-4ad9-b0ea-af1f38d43692</td>\n",
       "      <td>10</td>\n",
       "      <td>SPEC tarnybos</td>\n",
       "      <td>SPEC tarnybos</td>\n",
       "    </tr>\n",
       "    <tr>\n",
       "      <th>4</th>\n",
       "      <td>datasets/gov/bpc/pagalbos_skambuciai/IvykiuKla...</td>\n",
       "      <td>5c36b7ab-4ce7-4ea8-9e71-a6896c9bb69d</td>\n",
       "      <td>cb31703f-6c38-4893-935a-4ce154b1711c</td>\n",
       "      <td>11</td>\n",
       "      <td>Testavimo pratybos</td>\n",
       "      <td>Testavimo pratybos</td>\n",
       "    </tr>\n",
       "  </tbody>\n",
       "</table>\n",
       "</div>"
      ],
      "text/plain": [
       "                                               _type  \\\n",
       "0  datasets/gov/bpc/pagalbos_skambuciai/IvykiuKla...   \n",
       "1  datasets/gov/bpc/pagalbos_skambuciai/IvykiuKla...   \n",
       "2  datasets/gov/bpc/pagalbos_skambuciai/IvykiuKla...   \n",
       "3  datasets/gov/bpc/pagalbos_skambuciai/IvykiuKla...   \n",
       "4  datasets/gov/bpc/pagalbos_skambuciai/IvykiuKla...   \n",
       "\n",
       "                                    _id                             _revision  \\\n",
       "0  e01d8ee9-3fc6-40d3-bcfc-fd97ce96bf0b  080fe4e2-843a-4f86-90d0-6eab89caabc6   \n",
       "1  0f54c3fe-154c-4e2e-b0ee-5ba58b5e101b  44d33c33-e63d-4e6b-85a5-9fb82647341a   \n",
       "2  a5297115-60fa-4f39-bf2c-4ef7237e5859  67de496f-71c9-4960-9247-1113cc66ffed   \n",
       "3  bbce1603-0fc2-4354-93ce-93acb479c0f7  a1d5c98d-c701-4ad9-b0ea-af1f38d43692   \n",
       "4  5c36b7ab-4ce7-4ea8-9e71-a6896c9bb69d  cb31703f-6c38-4893-935a-4ce154b1711c   \n",
       "\n",
       "  ivykio_tipo_kodas aukstesnis_ivykio_tipas  \\\n",
       "0               1.1            Aplinkosauga   \n",
       "1               1.2            Aplinkosauga   \n",
       "2               1.3            Aplinkosauga   \n",
       "3                10           SPEC tarnybos   \n",
       "4                11      Testavimo pratybos   \n",
       "\n",
       "                               zemesnis_ivykio_tipas  \n",
       "0  Įvykiai dėl kurių gali kilti ar kilo pavojus g...  \n",
       "1                     Įvykiai su laukiniais gyvūnais  \n",
       "2            Teisės pažeidimai aplinkosaugos srityje  \n",
       "3                                      SPEC tarnybos  \n",
       "4                                 Testavimo pratybos  "
      ]
     },
     "execution_count": 5,
     "metadata": {},
     "output_type": "execute_result"
    }
   ],
   "source": [
    "klas.head()"
   ]
  },
  {
   "cell_type": "code",
   "execution_count": 3,
   "id": "19177eb9-05dc-4a02-afa8-67b8d3802f8a",
   "metadata": {},
   "outputs": [
    {
     "name": "stdout",
     "output_type": "stream",
     "text": [
      "<class 'pandas.core.frame.DataFrame'>\n",
      "RangeIndex: 146 entries, 0 to 145\n",
      "Data columns (total 6 columns):\n",
      " #   Column                   Non-Null Count  Dtype \n",
      "---  ------                   --------------  ----- \n",
      " 0   _type                    146 non-null    object\n",
      " 1   _id                      146 non-null    object\n",
      " 2   _revision                146 non-null    object\n",
      " 3   ivykio_tipo_kodas        146 non-null    object\n",
      " 4   aukstesnis_ivykio_tipas  146 non-null    object\n",
      " 5   zemesnis_ivykio_tipas    146 non-null    object\n",
      "dtypes: object(6)\n",
      "memory usage: 7.0+ KB\n"
     ]
    }
   ],
   "source": [
    "klas.info()"
   ]
  },
  {
   "cell_type": "code",
   "execution_count": 4,
   "id": "94fd6278-0801-4386-b3ac-b968bc67dcc5",
   "metadata": {},
   "outputs": [
    {
     "data": {
      "text/plain": [
       "_type                        1\n",
       "_id                        146\n",
       "_revision                  146\n",
       "ivykio_tipo_kodas          145\n",
       "aukstesnis_ivykio_tipas     15\n",
       "zemesnis_ivykio_tipas      146\n",
       "dtype: int64"
      ]
     },
     "execution_count": 4,
     "metadata": {},
     "output_type": "execute_result"
    }
   ],
   "source": [
    "klas.nunique() # matome, kad vienas ivykio_tipo_kodas pasikartoja 2 kartus"
   ]
  },
  {
   "cell_type": "code",
   "execution_count": 79,
   "id": "eb8d1489-888b-4b09-803d-8ab13b244764",
   "metadata": {},
   "outputs": [
    {
     "data": {
      "text/plain": [
       "ivykio_tipo_kodas\n",
       "4.4.4    2\n",
       "1.2      1\n",
       "15       1\n",
       "1.3      1\n",
       "10       1\n",
       "dtype: int64"
      ]
     },
     "execution_count": 79,
     "metadata": {},
     "output_type": "execute_result"
    }
   ],
   "source": [
    "klas.value_counts('ivykio_tipo_kodas').sort_values(ascending = False).head(5) "
   ]
  },
  {
   "cell_type": "code",
   "execution_count": 78,
   "id": "22b7ad91-e401-4c59-ae5e-08ff35d4eb4d",
   "metadata": {},
   "outputs": [
    {
     "data": {
      "text/html": [
       "<div>\n",
       "<style scoped>\n",
       "    .dataframe tbody tr th:only-of-type {\n",
       "        vertical-align: middle;\n",
       "    }\n",
       "\n",
       "    .dataframe tbody tr th {\n",
       "        vertical-align: top;\n",
       "    }\n",
       "\n",
       "    .dataframe thead th {\n",
       "        text-align: right;\n",
       "    }\n",
       "</style>\n",
       "<table border=\"1\" class=\"dataframe\">\n",
       "  <thead>\n",
       "    <tr style=\"text-align: right;\">\n",
       "      <th></th>\n",
       "      <th>_type</th>\n",
       "      <th>_id</th>\n",
       "      <th>_revision</th>\n",
       "      <th>ivykio_tipo_kodas</th>\n",
       "      <th>aukstesnis_ivykio_tipas</th>\n",
       "      <th>zemesnis_ivykio_tipas</th>\n",
       "    </tr>\n",
       "  </thead>\n",
       "  <tbody>\n",
       "    <tr>\n",
       "      <th>84</th>\n",
       "      <td>datasets/gov/bpc/pagalbos_skambuciai/IvykiuKla...</td>\n",
       "      <td>a117060e-3ddb-4dff-ac2e-bf7989fac9f7</td>\n",
       "      <td>b32d7352-576f-4ef0-890f-6b7d1beb49d4</td>\n",
       "      <td>4.4.4</td>\n",
       "      <td>GMP įvykiai</td>\n",
       "      <td>Prasidėjęs gimdymas</td>\n",
       "    </tr>\n",
       "    <tr>\n",
       "      <th>85</th>\n",
       "      <td>datasets/gov/bpc/pagalbos_skambuciai/IvykiuKla...</td>\n",
       "      <td>b5def24e-804a-449b-8392-6b4ae548d51d</td>\n",
       "      <td>3c1c9ad5-a099-4319-953b-4e92292b2255</td>\n",
       "      <td>4.4.4</td>\n",
       "      <td>GMP įvykiai</td>\n",
       "      <td>Gaisras pastate, nežinoma situacija</td>\n",
       "    </tr>\n",
       "  </tbody>\n",
       "</table>\n",
       "</div>"
      ],
      "text/plain": [
       "                                                _type  \\\n",
       "84  datasets/gov/bpc/pagalbos_skambuciai/IvykiuKla...   \n",
       "85  datasets/gov/bpc/pagalbos_skambuciai/IvykiuKla...   \n",
       "\n",
       "                                     _id  \\\n",
       "84  a117060e-3ddb-4dff-ac2e-bf7989fac9f7   \n",
       "85  b5def24e-804a-449b-8392-6b4ae548d51d   \n",
       "\n",
       "                               _revision ivykio_tipo_kodas  \\\n",
       "84  b32d7352-576f-4ef0-890f-6b7d1beb49d4             4.4.4   \n",
       "85  3c1c9ad5-a099-4319-953b-4e92292b2255             4.4.4   \n",
       "\n",
       "   aukstesnis_ivykio_tipas                zemesnis_ivykio_tipas  \n",
       "84             GMP įvykiai                  Prasidėjęs gimdymas  \n",
       "85             GMP įvykiai  Gaisras pastate, nežinoma situacija  "
      ]
     },
     "execution_count": 78,
     "metadata": {},
     "output_type": "execute_result"
    }
   ],
   "source": [
    "klas[klas['ivykio_tipo_kodas'] == '4.4.4'] # Su tuo pačiu 4.4.4 kodu yra du GMP įvykiai (Prasidėjęs gimdymas ir Gaisras pastate, nežinoma situacija)"
   ]
  },
  {
   "cell_type": "code",
   "execution_count": 6,
   "id": "a1157d9a-867a-44cb-aa59-194d7c76ea4d",
   "metadata": {},
   "outputs": [
    {
     "data": {
      "text/plain": [
       "<AxesSubplot:xlabel='aukstesnis_ivykio_tipas'>"
      ]
     },
     "execution_count": 6,
     "metadata": {},
     "output_type": "execute_result"
    },
    {
     "data": {
      "image/png": "[encoded data removed]",
      "text/plain": [
       "<Figure size 432x288 with 1 Axes>"
      ]
     },
     "metadata": {
      "needs_background": "light"
     },
     "output_type": "display_data"
    }
   ],
   "source": [
    "# Dėl kurių įvykių tipų sulaukiama daugiausiai įvykių?\n",
    "klas.value_counts('aukstesnis_ivykio_tipas').plot.bar()"
   ]
  },
  {
   "cell_type": "markdown",
   "id": "eef3afd7-99d8-44c0-8777-815b117c0927",
   "metadata": {
    "tags": []
   },
   "source": [
    "# ĮVYKIŲ LAIKAS. Duomenų analizė"
   ]
  },
  {
   "cell_type": "code",
   "execution_count": 15,
   "id": "1c2b6663-87e6-4826-a9e1-1b380bd7667a",
   "metadata": {},
   "outputs": [
    {
     "name": "stdout",
     "output_type": "stream",
     "text": [
      "<class 'pandas.core.frame.DataFrame'>\n",
      "RangeIndex: 76307 entries, 0 to 76306\n",
      "Data columns (total 10 columns):\n",
      " #   Column                 Non-Null Count  Dtype \n",
      "---  ------                 --------------  ----- \n",
      " 0   _type                  76307 non-null  object\n",
      " 1   _id                    76307 non-null  object\n",
      " 2   _revision              76307 non-null  object\n",
      " 3   ivykio_tipo_kodas._id  76307 non-null  object\n",
      " 4   menuo                  76307 non-null  int64 \n",
      " 5   savaites_diena         76307 non-null  int64 \n",
      " 6   valanda                76307 non-null  int64 \n",
      " 7   minute                 76307 non-null  object\n",
      " 8   ivykiu_skaicius        76307 non-null  int64 \n",
      " 9   dienu_grupeje          76307 non-null  int64 \n",
      "dtypes: int64(5), object(5)\n",
      "memory usage: 5.8+ MB\n"
     ]
    }
   ],
   "source": [
    "laik.info()"
   ]
  },
  {
   "cell_type": "code",
   "execution_count": 16,
   "id": "8f48dc04-de29-4312-9de8-9445555fff4b",
   "metadata": {},
   "outputs": [
    {
     "data": {
      "text/plain": [
       "_type                        1\n",
       "_id                      76307\n",
       "_revision                76307\n",
       "ivykio_tipo_kodas._id      146\n",
       "menuo                        3\n",
       "savaites_diena               7\n",
       "valanda                     24\n",
       "minute                       6\n",
       "ivykiu_skaicius             79\n",
       "dienu_grupeje                2\n",
       "dtype: int64"
      ]
     },
     "execution_count": 16,
     "metadata": {},
     "output_type": "execute_result"
    }
   ],
   "source": [
    "laik.nunique()"
   ]
  },
  {
   "cell_type": "code",
   "execution_count": 17,
   "id": "6b8315c1-35c5-4824-9b47-a55806333b96",
   "metadata": {},
   "outputs": [
    {
     "data": {
      "text/html": [
       "<div>\n",
       "<style scoped>\n",
       "    .dataframe tbody tr th:only-of-type {\n",
       "        vertical-align: middle;\n",
       "    }\n",
       "\n",
       "    .dataframe tbody tr th {\n",
       "        vertical-align: top;\n",
       "    }\n",
       "\n",
       "    .dataframe thead th {\n",
       "        text-align: right;\n",
       "    }\n",
       "</style>\n",
       "<table border=\"1\" class=\"dataframe\">\n",
       "  <thead>\n",
       "    <tr style=\"text-align: right;\">\n",
       "      <th></th>\n",
       "      <th>_type</th>\n",
       "      <th>_id</th>\n",
       "      <th>_revision</th>\n",
       "      <th>ivykio_tipo_kodas._id</th>\n",
       "      <th>menuo</th>\n",
       "      <th>savaites_diena</th>\n",
       "      <th>valanda</th>\n",
       "      <th>minute</th>\n",
       "      <th>ivykiu_skaicius</th>\n",
       "      <th>dienu_grupeje</th>\n",
       "    </tr>\n",
       "  </thead>\n",
       "  <tbody>\n",
       "    <tr>\n",
       "      <th>0</th>\n",
       "      <td>datasets/gov/bpc/pagalbos_skambuciai/IvykiuLaikas</td>\n",
       "      <td>80e2b4ef-e313-4811-b6e2-5b6f5cbc288c</td>\n",
       "      <td>f4191a25-7ddb-4563-aa54-68748835870d</td>\n",
       "      <td>505a4081-64ab-4a13-9fad-ec1ed336e57d</td>\n",
       "      <td>8</td>\n",
       "      <td>1</td>\n",
       "      <td>14</td>\n",
       "      <td>00-09</td>\n",
       "      <td>55</td>\n",
       "      <td>4</td>\n",
       "    </tr>\n",
       "    <tr>\n",
       "      <th>1</th>\n",
       "      <td>datasets/gov/bpc/pagalbos_skambuciai/IvykiuLaikas</td>\n",
       "      <td>76ad05e6-b6ca-4977-9f6e-5a04f16041cc</td>\n",
       "      <td>aaf66f2f-877c-40d9-9d93-d5a0420bb208</td>\n",
       "      <td>4158fd9e-cbe9-40ce-9d1a-87aa896f4dab</td>\n",
       "      <td>8</td>\n",
       "      <td>1</td>\n",
       "      <td>14</td>\n",
       "      <td>00-09</td>\n",
       "      <td>3</td>\n",
       "      <td>4</td>\n",
       "    </tr>\n",
       "    <tr>\n",
       "      <th>2</th>\n",
       "      <td>datasets/gov/bpc/pagalbos_skambuciai/IvykiuLaikas</td>\n",
       "      <td>009b81c8-0bf5-4542-b87d-4fb2746aff26</td>\n",
       "      <td>c73d64ab-276f-434d-a019-28ff168757a7</td>\n",
       "      <td>0213b529-d9d0-462a-8233-a4e8812d455f</td>\n",
       "      <td>8</td>\n",
       "      <td>1</td>\n",
       "      <td>14</td>\n",
       "      <td>10-19</td>\n",
       "      <td>3</td>\n",
       "      <td>4</td>\n",
       "    </tr>\n",
       "    <tr>\n",
       "      <th>3</th>\n",
       "      <td>datasets/gov/bpc/pagalbos_skambuciai/IvykiuLaikas</td>\n",
       "      <td>2e1489e4-924c-492b-bad4-bdd4a992f791</td>\n",
       "      <td>175188b5-d81c-4d44-8417-728c04cb1422</td>\n",
       "      <td>1d3b2c08-46d7-447d-b7dc-e11935ca262e</td>\n",
       "      <td>8</td>\n",
       "      <td>1</td>\n",
       "      <td>14</td>\n",
       "      <td>10-19</td>\n",
       "      <td>1</td>\n",
       "      <td>4</td>\n",
       "    </tr>\n",
       "    <tr>\n",
       "      <th>4</th>\n",
       "      <td>datasets/gov/bpc/pagalbos_skambuciai/IvykiuLaikas</td>\n",
       "      <td>492620fc-d3e3-4b8e-80cd-dc48844a280f</td>\n",
       "      <td>fd62ccf4-8ed0-4c5a-b70e-444990c1b6b5</td>\n",
       "      <td>4b327b2f-1740-4e0e-b8c8-06299aeec6d9</td>\n",
       "      <td>8</td>\n",
       "      <td>1</td>\n",
       "      <td>14</td>\n",
       "      <td>10-19</td>\n",
       "      <td>11</td>\n",
       "      <td>4</td>\n",
       "    </tr>\n",
       "  </tbody>\n",
       "</table>\n",
       "</div>"
      ],
      "text/plain": [
       "                                               _type  \\\n",
       "0  datasets/gov/bpc/pagalbos_skambuciai/IvykiuLaikas   \n",
       "1  datasets/gov/bpc/pagalbos_skambuciai/IvykiuLaikas   \n",
       "2  datasets/gov/bpc/pagalbos_skambuciai/IvykiuLaikas   \n",
       "3  datasets/gov/bpc/pagalbos_skambuciai/IvykiuLaikas   \n",
       "4  datasets/gov/bpc/pagalbos_skambuciai/IvykiuLaikas   \n",
       "\n",
       "                                    _id                             _revision  \\\n",
       "0  80e2b4ef-e313-4811-b6e2-5b6f5cbc288c  f4191a25-7ddb-4563-aa54-68748835870d   \n",
       "1  76ad05e6-b6ca-4977-9f6e-5a04f16041cc  aaf66f2f-877c-40d9-9d93-d5a0420bb208   \n",
       "2  009b81c8-0bf5-4542-b87d-4fb2746aff26  c73d64ab-276f-434d-a019-28ff168757a7   \n",
       "3  2e1489e4-924c-492b-bad4-bdd4a992f791  175188b5-d81c-4d44-8417-728c04cb1422   \n",
       "4  492620fc-d3e3-4b8e-80cd-dc48844a280f  fd62ccf4-8ed0-4c5a-b70e-444990c1b6b5   \n",
       "\n",
       "                  ivykio_tipo_kodas._id  menuo  savaites_diena  valanda  \\\n",
       "0  505a4081-64ab-4a13-9fad-ec1ed336e57d      8               1       14   \n",
       "1  4158fd9e-cbe9-40ce-9d1a-87aa896f4dab      8               1       14   \n",
       "2  0213b529-d9d0-462a-8233-a4e8812d455f      8               1       14   \n",
       "3  1d3b2c08-46d7-447d-b7dc-e11935ca262e      8               1       14   \n",
       "4  4b327b2f-1740-4e0e-b8c8-06299aeec6d9      8               1       14   \n",
       "\n",
       "  minute  ivykiu_skaicius  dienu_grupeje  \n",
       "0  00-09               55              4  \n",
       "1  00-09                3              4  \n",
       "2  10-19                3              4  \n",
       "3  10-19                1              4  \n",
       "4  10-19               11              4  "
      ]
     },
     "execution_count": 17,
     "metadata": {},
     "output_type": "execute_result"
    }
   ],
   "source": [
    "laik.head()"
   ]
  },
  {
   "cell_type": "code",
   "execution_count": 5,
   "id": "ca0b28b8-c682-4f9b-8e08-1b5b022f4614",
   "metadata": {},
   "outputs": [],
   "source": [
    "# Sukuriami nauji stulpeliai 'savaite_valanda_minute', 'paros_metas' ir savaites_metas'\n",
    "laik['savaite_valanda_minute'] = laik['savaites_diena'].astype(str) + '_' + laik['valanda'].astype(str) +'_'+ laik['minute']\n",
    "\n",
    "def new_col(laik):\n",
    "    if (laik['valanda'] == 22) | (laik['valanda'] == 23) | (laik['valanda'] == 0) | (laik['valanda'] == 1) | (laik['valanda'] == 2) | (laik['valanda'] == 3) | (laik['valanda'] == 4) | (laik['valanda'] == 5):\n",
    "        return 'nakties metu'\n",
    "    else:\n",
    "        return 'dienos metu'\n",
    "laik['paros_metas'] = laik.apply(new_col, axis=1)\n",
    "\n",
    "def new_col2(laik):\n",
    "    if (laik['savaites_diena'] == 6) | (laik['savaites_diena'] == 7):\n",
    "        return 'savaitgalis'\n",
    "    else:\n",
    "        return 'darbo diena'\n",
    "laik['savaites_metas'] = laik.apply(new_col2, axis = 1)"
   ]
  },
  {
   "cell_type": "code",
   "execution_count": 176,
   "id": "eba4345e-e65d-47af-851e-e02098000108",
   "metadata": {},
   "outputs": [
    {
     "data": {
      "text/html": [
       "<div>\n",
       "<style scoped>\n",
       "    .dataframe tbody tr th:only-of-type {\n",
       "        vertical-align: middle;\n",
       "    }\n",
       "\n",
       "    .dataframe tbody tr th {\n",
       "        vertical-align: top;\n",
       "    }\n",
       "\n",
       "    .dataframe thead th {\n",
       "        text-align: right;\n",
       "    }\n",
       "</style>\n",
       "<table border=\"1\" class=\"dataframe\">\n",
       "  <thead>\n",
       "    <tr style=\"text-align: right;\">\n",
       "      <th></th>\n",
       "      <th>ivykiu_skaicius</th>\n",
       "    </tr>\n",
       "    <tr>\n",
       "      <th>menuo</th>\n",
       "      <th></th>\n",
       "    </tr>\n",
       "  </thead>\n",
       "  <tbody>\n",
       "    <tr>\n",
       "      <th>6</th>\n",
       "      <td>99527</td>\n",
       "    </tr>\n",
       "    <tr>\n",
       "      <th>7</th>\n",
       "      <td>102405</td>\n",
       "    </tr>\n",
       "    <tr>\n",
       "      <th>8</th>\n",
       "      <td>104541</td>\n",
       "    </tr>\n",
       "  </tbody>\n",
       "</table>\n",
       "</div>"
      ],
      "text/plain": [
       "       ivykiu_skaicius\n",
       "menuo                 \n",
       "6                99527\n",
       "7               102405\n",
       "8               104541"
      ]
     },
     "execution_count": 176,
     "metadata": {},
     "output_type": "execute_result"
    }
   ],
   "source": [
    "# Kurį 2022 m. vasaros mėnesį fiksuotą daugiausiai įvykių?\n",
    "laik.groupby('menuo')['ivykiu_skaicius'].sum().to_frame()"
   ]
  },
  {
   "cell_type": "code",
   "execution_count": 28,
   "id": "df62a8ea-b547-45d7-8b31-1ab0fa07056b",
   "metadata": {},
   "outputs": [
    {
     "data": {
      "text/plain": [
       "<AxesSubplot:xlabel='paros_metas'>"
      ]
     },
     "execution_count": 28,
     "metadata": {},
     "output_type": "execute_result"
    },
    {
     "data": {
      "image/png": "[encoded data removed]",
      "text/plain": [
       "<Figure size 432x288 with 1 Axes>"
      ]
     },
     "metadata": {
      "needs_background": "light"
     },
     "output_type": "display_data"
    }
   ],
   "source": [
    "# Kuriuo paros metu nutinka daugiausiai įvykių?\n",
    "laik.groupby('paros_metas')['ivykiu_skaicius'].sum().plot.bar()"
   ]
  },
  {
   "cell_type": "code",
   "execution_count": 128,
   "id": "414f1e04-a6a1-4f74-a2eb-60cb94823aa9",
   "metadata": {},
   "outputs": [
    {
     "data": {
      "text/plain": [
       "<AxesSubplot:xlabel='savaites_metas'>"
      ]
     },
     "execution_count": 128,
     "metadata": {},
     "output_type": "execute_result"
    },
    {
     "data": {
      "image/png": "[encoded data removed]",
      "text/plain": [
       "<Figure size 360x576 with 1 Axes>"
      ]
     },
     "metadata": {
      "needs_background": "light"
     },
     "output_type": "display_data"
    }
   ],
   "source": [
    "# Kuriuo savaitės metu nutinka daugiausiai įvykių?\n",
    "laik.groupby('savaites_metas')['ivykiu_skaicius'].sum().plot.bar()"
   ]
  },
  {
   "cell_type": "code",
   "execution_count": 18,
   "id": "9eae8cee-b068-4b1e-abbf-5fdfb14db426",
   "metadata": {},
   "outputs": [
    {
     "data": {
      "text/html": [
       "<div>\n",
       "<style scoped>\n",
       "    .dataframe tbody tr th:only-of-type {\n",
       "        vertical-align: middle;\n",
       "    }\n",
       "\n",
       "    .dataframe tbody tr th {\n",
       "        vertical-align: top;\n",
       "    }\n",
       "\n",
       "    .dataframe thead th {\n",
       "        text-align: right;\n",
       "    }\n",
       "</style>\n",
       "<table border=\"1\" class=\"dataframe\">\n",
       "  <thead>\n",
       "    <tr style=\"text-align: right;\">\n",
       "      <th></th>\n",
       "      <th></th>\n",
       "      <th>ivykiu_skaicius</th>\n",
       "    </tr>\n",
       "    <tr>\n",
       "      <th>savaite_valanda_minute</th>\n",
       "      <th>paros_metas</th>\n",
       "      <th></th>\n",
       "    </tr>\n",
       "  </thead>\n",
       "  <tbody>\n",
       "    <tr>\n",
       "      <th>4_20_20-29</th>\n",
       "      <th>dienos metu</th>\n",
       "      <td>486</td>\n",
       "    </tr>\n",
       "    <tr>\n",
       "      <th>4_20_00-09</th>\n",
       "      <th>dienos metu</th>\n",
       "      <td>474</td>\n",
       "    </tr>\n",
       "    <tr>\n",
       "      <th>1_19_20-29</th>\n",
       "      <th>dienos metu</th>\n",
       "      <td>469</td>\n",
       "    </tr>\n",
       "    <tr>\n",
       "      <th>1_20_20-29</th>\n",
       "      <th>dienos metu</th>\n",
       "      <td>467</td>\n",
       "    </tr>\n",
       "    <tr>\n",
       "      <th>5_20_40-49</th>\n",
       "      <th>dienos metu</th>\n",
       "      <td>466</td>\n",
       "    </tr>\n",
       "  </tbody>\n",
       "</table>\n",
       "</div>"
      ],
      "text/plain": [
       "                                    ivykiu_skaicius\n",
       "savaite_valanda_minute paros_metas                 \n",
       "4_20_20-29             dienos metu              486\n",
       "4_20_00-09             dienos metu              474\n",
       "1_19_20-29             dienos metu              469\n",
       "1_20_20-29             dienos metu              467\n",
       "5_20_40-49             dienos metu              466"
      ]
     },
     "execution_count": 18,
     "metadata": {},
     "output_type": "execute_result"
    }
   ],
   "source": [
    "# Kuriuo metu (darbo dieną) įvyksta daugiausiai įvykių:\n",
    "laik[laik['savaites_metas'] == 'darbo diena'].groupby(['savaite_valanda_minute','paros_metas'])['ivykiu_skaicius'].sum().sort_values(ascending = False).to_frame().head(5)"
   ]
  },
  {
   "cell_type": "code",
   "execution_count": 19,
   "id": "8b7c56c3-26a9-45f4-9897-f5ce92a8fd62",
   "metadata": {},
   "outputs": [
    {
     "data": {
      "text/html": [
       "<div>\n",
       "<style scoped>\n",
       "    .dataframe tbody tr th:only-of-type {\n",
       "        vertical-align: middle;\n",
       "    }\n",
       "\n",
       "    .dataframe tbody tr th {\n",
       "        vertical-align: top;\n",
       "    }\n",
       "\n",
       "    .dataframe thead th {\n",
       "        text-align: right;\n",
       "    }\n",
       "</style>\n",
       "<table border=\"1\" class=\"dataframe\">\n",
       "  <thead>\n",
       "    <tr style=\"text-align: right;\">\n",
       "      <th></th>\n",
       "      <th></th>\n",
       "      <th>ivykiu_skaicius</th>\n",
       "    </tr>\n",
       "    <tr>\n",
       "      <th>savaite_valanda_minute</th>\n",
       "      <th>paros_metas</th>\n",
       "      <th></th>\n",
       "    </tr>\n",
       "  </thead>\n",
       "  <tbody>\n",
       "    <tr>\n",
       "      <th>7_22_10-19</th>\n",
       "      <th>nakties metu</th>\n",
       "      <td>558</td>\n",
       "    </tr>\n",
       "    <tr>\n",
       "      <th>7_21_20-29</th>\n",
       "      <th>dienos metu</th>\n",
       "      <td>527</td>\n",
       "    </tr>\n",
       "    <tr>\n",
       "      <th>7_22_00-09</th>\n",
       "      <th>nakties metu</th>\n",
       "      <td>516</td>\n",
       "    </tr>\n",
       "    <tr>\n",
       "      <th>6_22_20-29</th>\n",
       "      <th>nakties metu</th>\n",
       "      <td>512</td>\n",
       "    </tr>\n",
       "    <tr>\n",
       "      <th>7_22_20-29</th>\n",
       "      <th>nakties metu</th>\n",
       "      <td>511</td>\n",
       "    </tr>\n",
       "  </tbody>\n",
       "</table>\n",
       "</div>"
      ],
      "text/plain": [
       "                                     ivykiu_skaicius\n",
       "savaite_valanda_minute paros_metas                  \n",
       "7_22_10-19             nakties metu              558\n",
       "7_21_20-29             dienos metu               527\n",
       "7_22_00-09             nakties metu              516\n",
       "6_22_20-29             nakties metu              512\n",
       "7_22_20-29             nakties metu              511"
      ]
     },
     "execution_count": 19,
     "metadata": {},
     "output_type": "execute_result"
    }
   ],
   "source": [
    "# Kuriuo metu (savaitgalį) įvyksta daugiausiai įvykių:\n",
    "laik[laik['savaites_metas'] == 'savaitgalis'].groupby(['savaite_valanda_minute','paros_metas'])['ivykiu_skaicius'].sum().sort_values(ascending = False).to_frame().head(5)"
   ]
  },
  {
   "cell_type": "markdown",
   "id": "09ce09ea-520c-44a5-895c-5f30df68ea6f",
   "metadata": {},
   "source": [
    "Galime pastebėti, kad savaitgaliais daugiausiai įvykių įvyksta nakties metu ir sekmadieniais, o darbo dienomis - dienos metu ir ketvirtadieniais bei pirmadieniais."
   ]
  },
  {
   "cell_type": "code",
   "execution_count": 28,
   "id": "260690c1-34eb-4c35-a23d-fd612fb43629",
   "metadata": {},
   "outputs": [
    {
     "data": {
      "text/html": [
       "<div>\n",
       "<style scoped>\n",
       "    .dataframe tbody tr th:only-of-type {\n",
       "        vertical-align: middle;\n",
       "    }\n",
       "\n",
       "    .dataframe tbody tr th {\n",
       "        vertical-align: top;\n",
       "    }\n",
       "\n",
       "    .dataframe thead th {\n",
       "        text-align: right;\n",
       "    }\n",
       "</style>\n",
       "<table border=\"1\" class=\"dataframe\">\n",
       "  <thead>\n",
       "    <tr style=\"text-align: right;\">\n",
       "      <th></th>\n",
       "      <th>ivykiu_skaicius</th>\n",
       "    </tr>\n",
       "    <tr>\n",
       "      <th>savaite_valanda_minute</th>\n",
       "      <th></th>\n",
       "    </tr>\n",
       "  </thead>\n",
       "  <tbody>\n",
       "    <tr>\n",
       "      <th>2_6_10-19</th>\n",
       "      <td>102</td>\n",
       "    </tr>\n",
       "    <tr>\n",
       "      <th>2_6_00-09</th>\n",
       "      <td>101</td>\n",
       "    </tr>\n",
       "    <tr>\n",
       "      <th>1_6_00-09</th>\n",
       "      <td>101</td>\n",
       "    </tr>\n",
       "    <tr>\n",
       "      <th>3_6_10-19</th>\n",
       "      <td>98</td>\n",
       "    </tr>\n",
       "    <tr>\n",
       "      <th>3_6_00-09</th>\n",
       "      <td>97</td>\n",
       "    </tr>\n",
       "  </tbody>\n",
       "</table>\n",
       "</div>"
      ],
      "text/plain": [
       "                        ivykiu_skaicius\n",
       "savaite_valanda_minute                 \n",
       "2_6_10-19                           102\n",
       "2_6_00-09                           101\n",
       "1_6_00-09                           101\n",
       "3_6_10-19                            98\n",
       "3_6_00-09                            97"
      ]
     },
     "execution_count": 28,
     "metadata": {},
     "output_type": "execute_result"
    }
   ],
   "source": [
    "# Kuriomis valandomis (darbo dieną ir dienos metu) nutinka daugiausiai įvykių:\n",
    "laik[(laik['savaites_metas'] == 'darbo diena') & (laik['paros_metas'] == 'dienos metu')].groupby(['savaite_valanda_minute'])['ivykiu_skaicius'].sum().sort_values(ascending = False).to_frame().tail(5)"
   ]
  },
  {
   "cell_type": "code",
   "execution_count": 29,
   "id": "d5632761-0d40-4416-9fe2-5f18a4b77183",
   "metadata": {},
   "outputs": [
    {
     "data": {
      "text/html": [
       "<div>\n",
       "<style scoped>\n",
       "    .dataframe tbody tr th:only-of-type {\n",
       "        vertical-align: middle;\n",
       "    }\n",
       "\n",
       "    .dataframe tbody tr th {\n",
       "        vertical-align: top;\n",
       "    }\n",
       "\n",
       "    .dataframe thead th {\n",
       "        text-align: right;\n",
       "    }\n",
       "</style>\n",
       "<table border=\"1\" class=\"dataframe\">\n",
       "  <thead>\n",
       "    <tr style=\"text-align: right;\">\n",
       "      <th></th>\n",
       "      <th>ivykiu_skaicius</th>\n",
       "    </tr>\n",
       "    <tr>\n",
       "      <th>savaite_valanda_minute</th>\n",
       "      <th></th>\n",
       "    </tr>\n",
       "  </thead>\n",
       "  <tbody>\n",
       "    <tr>\n",
       "      <th>7_6_20-29</th>\n",
       "      <td>119</td>\n",
       "    </tr>\n",
       "    <tr>\n",
       "      <th>6_6_30-39</th>\n",
       "      <td>109</td>\n",
       "    </tr>\n",
       "    <tr>\n",
       "      <th>6_6_10-19</th>\n",
       "      <td>108</td>\n",
       "    </tr>\n",
       "    <tr>\n",
       "      <th>7_6_00-09</th>\n",
       "      <td>107</td>\n",
       "    </tr>\n",
       "    <tr>\n",
       "      <th>6_6_00-09</th>\n",
       "      <td>107</td>\n",
       "    </tr>\n",
       "  </tbody>\n",
       "</table>\n",
       "</div>"
      ],
      "text/plain": [
       "                        ivykiu_skaicius\n",
       "savaite_valanda_minute                 \n",
       "7_6_20-29                           119\n",
       "6_6_30-39                           109\n",
       "6_6_10-19                           108\n",
       "7_6_00-09                           107\n",
       "6_6_00-09                           107"
      ]
     },
     "execution_count": 29,
     "metadata": {},
     "output_type": "execute_result"
    }
   ],
   "source": [
    "# Kuriomis valandomis (savaitgalį ir dienos metu) nutinka daugiausiai įvykių:\n",
    "laik[(laik['savaites_metas'] == 'savaitgalis') & (laik['paros_metas'] == 'dienos metu')].groupby(['savaite_valanda_minute'])['ivykiu_skaicius'].sum().sort_values(ascending = False).to_frame().tail(5)"
   ]
  },
  {
   "cell_type": "markdown",
   "id": "5be71199-8d7d-4cda-8abc-7a0f11861ffe",
   "metadata": {},
   "source": [
    "Galime pastebėti, kad dienos metu tiek savaitgaliais, tiek ir darbo dienomis, daugiausiai įvykių įvyksta 6 valandą ryto."
   ]
  },
  {
   "cell_type": "code",
   "execution_count": 124,
   "id": "e3f3354c-a86b-4b66-bed9-316f3138ddec",
   "metadata": {},
   "outputs": [
    {
     "data": {
      "text/html": [
       "<div>\n",
       "<style scoped>\n",
       "    .dataframe tbody tr th:only-of-type {\n",
       "        vertical-align: middle;\n",
       "    }\n",
       "\n",
       "    .dataframe tbody tr th {\n",
       "        vertical-align: top;\n",
       "    }\n",
       "\n",
       "    .dataframe thead th {\n",
       "        text-align: right;\n",
       "    }\n",
       "</style>\n",
       "<table border=\"1\" class=\"dataframe\">\n",
       "  <thead>\n",
       "    <tr style=\"text-align: right;\">\n",
       "      <th></th>\n",
       "      <th>ivykiu_skaicius</th>\n",
       "    </tr>\n",
       "    <tr>\n",
       "      <th>ivykio_tipo_kodas._id</th>\n",
       "      <th></th>\n",
       "    </tr>\n",
       "  </thead>\n",
       "  <tbody>\n",
       "    <tr>\n",
       "      <th>505a4081-64ab-4a13-9fad-ec1ed336e57d</th>\n",
       "      <td>77924</td>\n",
       "    </tr>\n",
       "    <tr>\n",
       "      <th>4b327b2f-1740-4e0e-b8c8-06299aeec6d9</th>\n",
       "      <td>21249</td>\n",
       "    </tr>\n",
       "    <tr>\n",
       "      <th>ec94b5d5-cc96-4dfb-bedf-e5500d0de49b</th>\n",
       "      <td>18055</td>\n",
       "    </tr>\n",
       "    <tr>\n",
       "      <th>32d83c23-146c-4499-91db-5fa305f5cd18</th>\n",
       "      <td>10845</td>\n",
       "    </tr>\n",
       "    <tr>\n",
       "      <th>32d2310b-621e-457c-8159-670b185fa580</th>\n",
       "      <td>8758</td>\n",
       "    </tr>\n",
       "  </tbody>\n",
       "</table>\n",
       "</div>"
      ],
      "text/plain": [
       "                                      ivykiu_skaicius\n",
       "ivykio_tipo_kodas._id                                \n",
       "505a4081-64ab-4a13-9fad-ec1ed336e57d            77924\n",
       "4b327b2f-1740-4e0e-b8c8-06299aeec6d9            21249\n",
       "ec94b5d5-cc96-4dfb-bedf-e5500d0de49b            18055\n",
       "32d83c23-146c-4499-91db-5fa305f5cd18            10845\n",
       "32d2310b-621e-457c-8159-670b185fa580             8758"
      ]
     },
     "execution_count": 124,
     "metadata": {},
     "output_type": "execute_result"
    }
   ],
   "source": [
    "# Kokie įvykių tipai populiariausi darbo dienomis?\n",
    "laik[laik['savaites_metas'] == 'darbo diena'].groupby(['ivykio_tipo_kodas._id'])['ivykiu_skaicius'].sum().sort_values(ascending = False).to_frame().head(5)"
   ]
  },
  {
   "cell_type": "code",
   "execution_count": 25,
   "id": "0df3c0e9-ce56-4859-bcdd-2cb6dee4bcc7",
   "metadata": {},
   "outputs": [
    {
     "data": {
      "text/html": [
       "<div>\n",
       "<style scoped>\n",
       "    .dataframe tbody tr th:only-of-type {\n",
       "        vertical-align: middle;\n",
       "    }\n",
       "\n",
       "    .dataframe tbody tr th {\n",
       "        vertical-align: top;\n",
       "    }\n",
       "\n",
       "    .dataframe thead th {\n",
       "        text-align: right;\n",
       "    }\n",
       "</style>\n",
       "<table border=\"1\" class=\"dataframe\">\n",
       "  <thead>\n",
       "    <tr style=\"text-align: right;\">\n",
       "      <th></th>\n",
       "      <th>ivykiu_skaicius</th>\n",
       "    </tr>\n",
       "    <tr>\n",
       "      <th>ivykio_tipo_kodas._id</th>\n",
       "      <th></th>\n",
       "    </tr>\n",
       "  </thead>\n",
       "  <tbody>\n",
       "    <tr>\n",
       "      <th>505a4081-64ab-4a13-9fad-ec1ed336e57d</th>\n",
       "      <td>30962</td>\n",
       "    </tr>\n",
       "    <tr>\n",
       "      <th>4b327b2f-1740-4e0e-b8c8-06299aeec6d9</th>\n",
       "      <td>12170</td>\n",
       "    </tr>\n",
       "    <tr>\n",
       "      <th>ec94b5d5-cc96-4dfb-bedf-e5500d0de49b</th>\n",
       "      <td>6734</td>\n",
       "    </tr>\n",
       "    <tr>\n",
       "      <th>32d2310b-621e-457c-8159-670b185fa580</th>\n",
       "      <td>4403</td>\n",
       "    </tr>\n",
       "    <tr>\n",
       "      <th>32d83c23-146c-4499-91db-5fa305f5cd18</th>\n",
       "      <td>4254</td>\n",
       "    </tr>\n",
       "  </tbody>\n",
       "</table>\n",
       "</div>"
      ],
      "text/plain": [
       "                                      ivykiu_skaicius\n",
       "ivykio_tipo_kodas._id                                \n",
       "505a4081-64ab-4a13-9fad-ec1ed336e57d            30962\n",
       "4b327b2f-1740-4e0e-b8c8-06299aeec6d9            12170\n",
       "ec94b5d5-cc96-4dfb-bedf-e5500d0de49b             6734\n",
       "32d2310b-621e-457c-8159-670b185fa580             4403\n",
       "32d83c23-146c-4499-91db-5fa305f5cd18             4254"
      ]
     },
     "execution_count": 25,
     "metadata": {},
     "output_type": "execute_result"
    }
   ],
   "source": [
    "# Kokie įvykių tipai popliariausi savaitgaliais?\n",
    "laik[laik['savaites_metas'] == 'savaitgalis'].groupby(['ivykio_tipo_kodas._id'])['ivykiu_skaicius'].sum().sort_values(ascending = False).to_frame().head(5)"
   ]
  },
  {
   "cell_type": "code",
   "execution_count": 27,
   "id": "362eca1a-fca4-40e7-87f0-e5f8c0e0ba59",
   "metadata": {},
   "outputs": [
    {
     "data": {
      "text/html": [
       "<div>\n",
       "<style scoped>\n",
       "    .dataframe tbody tr th:only-of-type {\n",
       "        vertical-align: middle;\n",
       "    }\n",
       "\n",
       "    .dataframe tbody tr th {\n",
       "        vertical-align: top;\n",
       "    }\n",
       "\n",
       "    .dataframe thead th {\n",
       "        text-align: right;\n",
       "    }\n",
       "</style>\n",
       "<table border=\"1\" class=\"dataframe\">\n",
       "  <thead>\n",
       "    <tr style=\"text-align: right;\">\n",
       "      <th></th>\n",
       "      <th>_type</th>\n",
       "      <th>_id</th>\n",
       "      <th>_revision</th>\n",
       "      <th>ivykio_tipo_kodas</th>\n",
       "      <th>aukstesnis_ivykio_tipas</th>\n",
       "      <th>zemesnis_ivykio_tipas</th>\n",
       "    </tr>\n",
       "  </thead>\n",
       "  <tbody>\n",
       "    <tr>\n",
       "      <th>138</th>\n",
       "      <td>datasets/gov/bpc/pagalbos_skambuciai/IvykiuKla...</td>\n",
       "      <td>32d2310b-621e-457c-8159-670b185fa580</td>\n",
       "      <td>af710ed1-f81d-44c1-a955-97560b384276</td>\n",
       "      <td>6.5.4</td>\n",
       "      <td>Policijos įvykiai</td>\n",
       "      <td>Smurtas artimoje aplinkoje</td>\n",
       "    </tr>\n",
       "  </tbody>\n",
       "</table>\n",
       "</div>"
      ],
      "text/plain": [
       "                                                 _type  \\\n",
       "138  datasets/gov/bpc/pagalbos_skambuciai/IvykiuKla...   \n",
       "\n",
       "                                      _id  \\\n",
       "138  32d2310b-621e-457c-8159-670b185fa580   \n",
       "\n",
       "                                _revision ivykio_tipo_kodas  \\\n",
       "138  af710ed1-f81d-44c1-a955-97560b384276             6.5.4   \n",
       "\n",
       "    aukstesnis_ivykio_tipas       zemesnis_ivykio_tipas  \n",
       "138       Policijos įvykiai  Smurtas artimoje aplinkoje  "
      ]
     },
     "execution_count": 27,
     "metadata": {},
     "output_type": "execute_result"
    }
   ],
   "source": [
    "klas[klas['_id'] == '32d2310b-621e-457c-8159-670b185fa580']"
   ]
  },
  {
   "cell_type": "markdown",
   "id": "c0d29d28-ef22-42d4-b727-c4490be7a7a7",
   "metadata": {},
   "source": [
    "Pastebime, kad populiariausi įvykių tipai išlieka tie patys tiek savaitgaliais, tiek darbo dienomis. Tačiau įvykio tipas '32d2310b-621e-457c-8159-670b185fa580' - Smurtas artimoje aplinkoje darbo dienomis užima penktąją vietą, o savaitgaliais jau ketvirtąją."
   ]
  },
  {
   "cell_type": "code",
   "execution_count": 49,
   "id": "78b83612-98b5-4a96-bebd-cd99f6ae5977",
   "metadata": {},
   "outputs": [
    {
     "data": {
      "text/plain": [
       "savaites_diena\n",
       "4    35471\n",
       "7    35092\n",
       "2    34702\n",
       "6    34543\n",
       "5    33832\n",
       "3    33668\n",
       "1    32959\n",
       "Name: ivykiu_skaicius, dtype: int64"
      ]
     },
     "execution_count": 49,
     "metadata": {},
     "output_type": "execute_result"
    }
   ],
   "source": [
    "# Kurią savaitės dieną įvyksta daugiausiai įvykių dienos metu?\n",
    "laik[laik['paros_metas'] == 'dienos metu'].groupby('savaites_diena')['ivykiu_skaicius'].sum().sort_values(ascending = False)"
   ]
  },
  {
   "cell_type": "code",
   "execution_count": 142,
   "id": "bcb09f81-a8cd-44f6-8b6a-2b7ac697c333",
   "metadata": {},
   "outputs": [
    {
     "data": {
      "text/plain": [
       "savaites_diena\n",
       "7    12901\n",
       "1    11359\n",
       "6     9771\n",
       "4     8445\n",
       "2     8100\n",
       "5     8026\n",
       "3     7604\n",
       "Name: ivykiu_skaicius, dtype: int64"
      ]
     },
     "execution_count": 142,
     "metadata": {},
     "output_type": "execute_result"
    }
   ],
   "source": [
    "# Kurią savaitės dieną įvyksta daugiausiai įvykių nakties metu?\n",
    "laik[laik['paros_metas'] == 'nakties metu'].groupby('savaites_diena')['ivykiu_skaicius'].sum().sort_values(ascending = False)"
   ]
  },
  {
   "cell_type": "markdown",
   "id": "74643597-53b4-4397-bf4c-a1d18c2ffdc5",
   "metadata": {},
   "source": [
    "Pastebime, įdomų faktą, kad dienos metu pirmadieniais įvyksta mažiausiai įvykių, tačiau nakties metu - pirmadieniai užima net antrąją vietą."
   ]
  },
  {
   "cell_type": "code",
   "execution_count": 40,
   "id": "8a5f5669-b511-4ba3-8d93-189c4678b322",
   "metadata": {},
   "outputs": [
    {
     "data": {
      "image/png": "[encoded data removed]",
      "text/plain": [
       "<Figure size 2160x720 with 1 Axes>"
      ]
     },
     "metadata": {
      "needs_background": "light"
     },
     "output_type": "display_data"
    }
   ],
   "source": [
    "# Kuriomis savaitės dienomis, tiek dienos, tiek ir nakties metu įvykių yra daugiausia ?\n",
    "mpl.rc('figure', figsize=(30,10))\n",
    "laik.groupby(['savaites_diena'])['ivykiu_skaicius'].sum().plot()\n",
    "plt.grid()"
   ]
  },
  {
   "cell_type": "code",
   "execution_count": 44,
   "id": "e4df224e-0349-484d-a9e7-88f7c863ef1e",
   "metadata": {},
   "outputs": [
    {
     "data": {
      "image/png": "[encoded data removed]",
      "text/plain": [
       "<Figure size 2160x720 with 1 Axes>"
      ]
     },
     "metadata": {
      "needs_background": "light"
     },
     "output_type": "display_data"
    }
   ],
   "source": [
    "# Kuriomis valandomis, tiek savaitgaliais, tiek ir darbo dienomis, įvykių yra daugiausia?\n",
    "mpl.rc('figure', figsize=(30,10))\n",
    "plt.plot(laik.groupby('valanda')['ivykiu_skaicius'].sum())\n",
    "plt.grid()"
   ]
  },
  {
   "cell_type": "code",
   "execution_count": null,
   "id": "a7d4aba7-f2eb-4141-8887-41c0ad80fdf1",
   "metadata": {},
   "outputs": [
    {
     "name": "stdout",
     "output_type": "stream",
     "text": [
      "<class 'pandas.core.frame.DataFrame'>\n",
      "RangeIndex: 8070 entries, 0 to 8069\n",
      "Data columns (total 9 columns):\n",
      " #   Column                 Non-Null Count  Dtype  \n",
      "---  ------                 --------------  -----  \n",
      " 0   _type                  8070 non-null   object \n",
      " 1   _id                    8070 non-null   object \n",
      " 2   _revision              8070 non-null   object \n",
      " 3   ivykio_tipo_kodas._id  8070 non-null   object \n",
      " 4   savivaldybes_kodas     8041 non-null   float64\n",
      " 5   savivaldybe            8070 non-null   object \n",
      " 6   metai                  8070 non-null   int64  \n",
      " 7   menuo                  8070 non-null   int64  \n",
      " 8   ivykiu_skaicius        8070 non-null   int64  \n",
      "dtypes: float64(1), int64(3), object(5)\n",
      "memory usage: 567.5+ KB\n"
     ]
    }
   ],
   "source": [
    "sav.info()\n",
    "# ivykio_skaicius nėra struktūros apraše"
   ]
  },
  {
   "cell_type": "code",
   "execution_count": null,
   "id": "67c79479-701f-430b-b5fa-5339507badc1",
   "metadata": {},
   "outputs": [
    {
     "data": {
      "text/plain": [
       "_type                       1\n",
       "_id                      8070\n",
       "_revision                8070\n",
       "ivykio_tipo_kodas._id     146\n",
       "savivaldybes_kodas         60\n",
       "savivaldybe                61\n",
       "metai                       1\n",
       "menuo                       3\n",
       "ivykiu_skaicius           385\n",
       "dtype: int64"
      ]
     },
     "execution_count": 10,
     "metadata": {},
     "output_type": "execute_result"
    }
   ],
   "source": [
    "sav.nunique()"
   ]
  },
  {
   "cell_type": "code",
   "execution_count": null,
   "id": "60319c1b-2723-4f26-93de-50266997bb54",
   "metadata": {},
   "outputs": [
    {
     "data": {
      "text/html": [
       "<div>\n",
       "<style scoped>\n",
       "    .dataframe tbody tr th:only-of-type {\n",
       "        vertical-align: middle;\n",
       "    }\n",
       "\n",
       "    .dataframe tbody tr th {\n",
       "        vertical-align: top;\n",
       "    }\n",
       "\n",
       "    .dataframe thead th {\n",
       "        text-align: right;\n",
       "    }\n",
       "</style>\n",
       "<table border=\"1\" class=\"dataframe\">\n",
       "  <thead>\n",
       "    <tr style=\"text-align: right;\">\n",
       "      <th></th>\n",
       "      <th>_type</th>\n",
       "      <th>_id</th>\n",
       "      <th>_revision</th>\n",
       "      <th>ivykio_tipo_kodas._id</th>\n",
       "      <th>savivaldybes_kodas</th>\n",
       "      <th>savivaldybe</th>\n",
       "      <th>metai</th>\n",
       "      <th>menuo</th>\n",
       "      <th>ivykiu_skaicius</th>\n",
       "    </tr>\n",
       "  </thead>\n",
       "  <tbody>\n",
       "    <tr>\n",
       "      <th>0</th>\n",
       "      <td>datasets/gov/bpc/pagalbos_skambuciai/IvykiuSav...</td>\n",
       "      <td>23284831-c902-413c-9cae-6e1124bbab67</td>\n",
       "      <td>74516803-e4f5-4727-8633-5584ef5155aa</td>\n",
       "      <td>f3d4e6c8-e38b-4cab-a9a2-6abaaedbe5e6</td>\n",
       "      <td>11.0</td>\n",
       "      <td>Alytaus m. sav.</td>\n",
       "      <td>2022</td>\n",
       "      <td>6</td>\n",
       "      <td>2</td>\n",
       "    </tr>\n",
       "    <tr>\n",
       "      <th>1</th>\n",
       "      <td>datasets/gov/bpc/pagalbos_skambuciai/IvykiuSav...</td>\n",
       "      <td>aab51fec-d505-400e-9460-b7f214ffb964</td>\n",
       "      <td>ec795d16-fa0b-43ea-a3e1-77019ad87f64</td>\n",
       "      <td>32d83c23-146c-4499-91db-5fa305f5cd18</td>\n",
       "      <td>11.0</td>\n",
       "      <td>Alytaus m. sav.</td>\n",
       "      <td>2022</td>\n",
       "      <td>8</td>\n",
       "      <td>58</td>\n",
       "    </tr>\n",
       "    <tr>\n",
       "      <th>2</th>\n",
       "      <td>datasets/gov/bpc/pagalbos_skambuciai/IvykiuSav...</td>\n",
       "      <td>d35912b7-62c0-4484-adfd-6b4d91b9e273</td>\n",
       "      <td>aefc67d8-f1e8-4d9e-a495-155b14e04de0</td>\n",
       "      <td>0c201a9c-ae10-4269-8c38-150fad5db16d</td>\n",
       "      <td>11.0</td>\n",
       "      <td>Alytaus m. sav.</td>\n",
       "      <td>2022</td>\n",
       "      <td>8</td>\n",
       "      <td>7</td>\n",
       "    </tr>\n",
       "    <tr>\n",
       "      <th>3</th>\n",
       "      <td>datasets/gov/bpc/pagalbos_skambuciai/IvykiuSav...</td>\n",
       "      <td>679c3e7a-87f6-40a1-b52c-57beedbc6a33</td>\n",
       "      <td>3388fb8d-1800-4292-b14f-9b6dffa98759</td>\n",
       "      <td>bb824141-bc54-456e-9d47-9415688cde17</td>\n",
       "      <td>36.0</td>\n",
       "      <td>Biržų r. sav.</td>\n",
       "      <td>2022</td>\n",
       "      <td>6</td>\n",
       "      <td>12</td>\n",
       "    </tr>\n",
       "    <tr>\n",
       "      <th>4</th>\n",
       "      <td>datasets/gov/bpc/pagalbos_skambuciai/IvykiuSav...</td>\n",
       "      <td>d39e4c49-8f8a-4a98-b35f-0b0454b63a81</td>\n",
       "      <td>aba3bab0-4ac6-4506-ba88-d829b3f9a010</td>\n",
       "      <td>b5f1b57a-a7df-456f-acc9-94fbf15471ec</td>\n",
       "      <td>36.0</td>\n",
       "      <td>Biržų r. sav.</td>\n",
       "      <td>2022</td>\n",
       "      <td>7</td>\n",
       "      <td>5</td>\n",
       "    </tr>\n",
       "  </tbody>\n",
       "</table>\n",
       "</div>"
      ],
      "text/plain": [
       "                                               _type  \\\n",
       "0  datasets/gov/bpc/pagalbos_skambuciai/IvykiuSav...   \n",
       "1  datasets/gov/bpc/pagalbos_skambuciai/IvykiuSav...   \n",
       "2  datasets/gov/bpc/pagalbos_skambuciai/IvykiuSav...   \n",
       "3  datasets/gov/bpc/pagalbos_skambuciai/IvykiuSav...   \n",
       "4  datasets/gov/bpc/pagalbos_skambuciai/IvykiuSav...   \n",
       "\n",
       "                                    _id                             _revision  \\\n",
       "0  23284831-c902-413c-9cae-6e1124bbab67  74516803-e4f5-4727-8633-5584ef5155aa   \n",
       "1  aab51fec-d505-400e-9460-b7f214ffb964  ec795d16-fa0b-43ea-a3e1-77019ad87f64   \n",
       "2  d35912b7-62c0-4484-adfd-6b4d91b9e273  aefc67d8-f1e8-4d9e-a495-155b14e04de0   \n",
       "3  679c3e7a-87f6-40a1-b52c-57beedbc6a33  3388fb8d-1800-4292-b14f-9b6dffa98759   \n",
       "4  d39e4c49-8f8a-4a98-b35f-0b0454b63a81  aba3bab0-4ac6-4506-ba88-d829b3f9a010   \n",
       "\n",
       "                  ivykio_tipo_kodas._id  savivaldybes_kodas      savivaldybe  \\\n",
       "0  f3d4e6c8-e38b-4cab-a9a2-6abaaedbe5e6                11.0  Alytaus m. sav.   \n",
       "1  32d83c23-146c-4499-91db-5fa305f5cd18                11.0  Alytaus m. sav.   \n",
       "2  0c201a9c-ae10-4269-8c38-150fad5db16d                11.0  Alytaus m. sav.   \n",
       "3  bb824141-bc54-456e-9d47-9415688cde17                36.0    Biržų r. sav.   \n",
       "4  b5f1b57a-a7df-456f-acc9-94fbf15471ec                36.0    Biržų r. sav.   \n",
       "\n",
       "   metai  menuo  ivykiu_skaicius  \n",
       "0   2022      6                2  \n",
       "1   2022      8               58  \n",
       "2   2022      8                7  \n",
       "3   2022      6               12  \n",
       "4   2022      7                5  "
      ]
     },
     "execution_count": 53,
     "metadata": {},
     "output_type": "execute_result"
    }
   ],
   "source": [
    "sav.head()"
   ]
  },
  {
   "cell_type": "code",
   "execution_count": null,
   "id": "8c5575a8-e8fb-4199-ae64-896c844da81f",
   "metadata": {},
   "outputs": [
    {
     "data": {
      "text/plain": [
       "ivykio_tipo_kodas._id\n",
       "505a4081-64ab-4a13-9fad-ec1ed336e57d    108886\n",
       "4b327b2f-1740-4e0e-b8c8-06299aeec6d9     33419\n",
       "ec94b5d5-cc96-4dfb-bedf-e5500d0de49b     24789\n",
       "Name: ivykiu_skaicius, dtype: int64"
      ]
     },
     "execution_count": 97,
     "metadata": {},
     "output_type": "execute_result"
    }
   ],
   "source": [
    "# Populiariausi įvykių tipai:\n",
    "sav.groupby('ivykio_tipo_kodas._id')['ivykiu_skaicius'].sum().sort_values(ascending = False).head(3)"
   ]
  },
  {
   "cell_type": "code",
   "execution_count": null,
   "id": "7492c9bc-d30f-498a-a957-7fb6bdbe7d1e",
   "metadata": {},
   "outputs": [
    {
     "data": {
      "text/html": [
       "<div>\n",
       "<style scoped>\n",
       "    .dataframe tbody tr th:only-of-type {\n",
       "        vertical-align: middle;\n",
       "    }\n",
       "\n",
       "    .dataframe tbody tr th {\n",
       "        vertical-align: top;\n",
       "    }\n",
       "\n",
       "    .dataframe thead th {\n",
       "        text-align: right;\n",
       "    }\n",
       "</style>\n",
       "<table border=\"1\" class=\"dataframe\">\n",
       "  <thead>\n",
       "    <tr style=\"text-align: right;\">\n",
       "      <th></th>\n",
       "      <th></th>\n",
       "      <th>ivykiu_skaicius</th>\n",
       "    </tr>\n",
       "    <tr>\n",
       "      <th>ivykio_tipo_kodas._id</th>\n",
       "      <th>menuo</th>\n",
       "      <th></th>\n",
       "    </tr>\n",
       "  </thead>\n",
       "  <tbody>\n",
       "    <tr>\n",
       "      <th rowspan=\"3\" valign=\"top\">505a4081-64ab-4a13-9fad-ec1ed336e57d</th>\n",
       "      <th>7</th>\n",
       "      <td>36939</td>\n",
       "    </tr>\n",
       "    <tr>\n",
       "      <th>8</th>\n",
       "      <td>35991</td>\n",
       "    </tr>\n",
       "    <tr>\n",
       "      <th>6</th>\n",
       "      <td>35956</td>\n",
       "    </tr>\n",
       "    <tr>\n",
       "      <th rowspan=\"3\" valign=\"top\">4b327b2f-1740-4e0e-b8c8-06299aeec6d9</th>\n",
       "      <th>8</th>\n",
       "      <td>12262</td>\n",
       "    </tr>\n",
       "    <tr>\n",
       "      <th>7</th>\n",
       "      <td>11286</td>\n",
       "    </tr>\n",
       "    <tr>\n",
       "      <th>6</th>\n",
       "      <td>9871</td>\n",
       "    </tr>\n",
       "    <tr>\n",
       "      <th rowspan=\"3\" valign=\"top\">ec94b5d5-cc96-4dfb-bedf-e5500d0de49b</th>\n",
       "      <th>6</th>\n",
       "      <td>8600</td>\n",
       "    </tr>\n",
       "    <tr>\n",
       "      <th>8</th>\n",
       "      <td>8162</td>\n",
       "    </tr>\n",
       "    <tr>\n",
       "      <th>7</th>\n",
       "      <td>8027</td>\n",
       "    </tr>\n",
       "  </tbody>\n",
       "</table>\n",
       "</div>"
      ],
      "text/plain": [
       "                                            ivykiu_skaicius\n",
       "ivykio_tipo_kodas._id                menuo                 \n",
       "505a4081-64ab-4a13-9fad-ec1ed336e57d 7                36939\n",
       "                                     8                35991\n",
       "                                     6                35956\n",
       "4b327b2f-1740-4e0e-b8c8-06299aeec6d9 8                12262\n",
       "                                     7                11286\n",
       "                                     6                 9871\n",
       "ec94b5d5-cc96-4dfb-bedf-e5500d0de49b 6                 8600\n",
       "                                     8                 8162\n",
       "                                     7                 8027"
      ]
     },
     "execution_count": 93,
     "metadata": {},
     "output_type": "execute_result"
    }
   ],
   "source": [
    "# Populiariausi įvykių tipai:\n",
    "sav.groupby(['ivykio_tipo_kodas._id', 'menuo'])['ivykiu_skaicius'].sum().sort_values(ascending = False).head(9).to_frame()"
   ]
  },
  {
   "cell_type": "code",
   "execution_count": null,
   "id": "ac7d1953-a167-4b26-9e21-e645410b7a75",
   "metadata": {},
   "outputs": [
    {
     "data": {
      "text/html": [
       "<div>\n",
       "<style scoped>\n",
       "    .dataframe tbody tr th:only-of-type {\n",
       "        vertical-align: middle;\n",
       "    }\n",
       "\n",
       "    .dataframe tbody tr th {\n",
       "        vertical-align: top;\n",
       "    }\n",
       "\n",
       "    .dataframe thead th {\n",
       "        text-align: right;\n",
       "    }\n",
       "</style>\n",
       "<table border=\"1\" class=\"dataframe\">\n",
       "  <thead>\n",
       "    <tr style=\"text-align: right;\">\n",
       "      <th></th>\n",
       "      <th>_type</th>\n",
       "      <th>_id</th>\n",
       "      <th>_revision</th>\n",
       "      <th>ivykio_tipo_kodas</th>\n",
       "      <th>aukstesnis_ivykio_tipas</th>\n",
       "      <th>zemesnis_ivykio_tipas</th>\n",
       "    </tr>\n",
       "  </thead>\n",
       "  <tbody>\n",
       "    <tr>\n",
       "      <th>12</th>\n",
       "      <td>datasets/gov/bpc/pagalbos_skambuciai/IvykiuKla...</td>\n",
       "      <td>505a4081-64ab-4a13-9fad-ec1ed336e57d</td>\n",
       "      <td>38c04d27-d8ab-4749-90b6-e3d551b21aa4</td>\n",
       "      <td>2.1</td>\n",
       "      <td>BPC-GMP</td>\n",
       "      <td>GMP įvykis</td>\n",
       "    </tr>\n",
       "  </tbody>\n",
       "</table>\n",
       "</div>"
      ],
      "text/plain": [
       "                                                _type  \\\n",
       "12  datasets/gov/bpc/pagalbos_skambuciai/IvykiuKla...   \n",
       "\n",
       "                                     _id  \\\n",
       "12  505a4081-64ab-4a13-9fad-ec1ed336e57d   \n",
       "\n",
       "                               _revision ivykio_tipo_kodas  \\\n",
       "12  38c04d27-d8ab-4749-90b6-e3d551b21aa4               2.1   \n",
       "\n",
       "   aukstesnis_ivykio_tipas zemesnis_ivykio_tipas  \n",
       "12                 BPC-GMP            GMP įvykis  "
      ]
     },
     "execution_count": 14,
     "metadata": {},
     "output_type": "execute_result"
    }
   ],
   "source": [
    "# Pasinaudojant ĮvykiųKlasifikatorius duomenimis, išvedami įvykio tipo duomenys\n",
    "klas[klas['_id'] == '505a4081-64ab-4a13-9fad-ec1ed336e57d']"
   ]
  }
 ],
 "metadata": {
  "kernelspec": {
   "display_name": "Python 3 (ipykernel)",
   "language": "python",
   "name": "python3"
  },
  "language_info": {
   "codemirror_mode": {
    "name": "ipython",
    "version": 3
   },
   "file_extension": ".py",
   "mimetype": "text/x-python",
   "name": "python",
   "nbconvert_exporter": "python",
   "pygments_lexer": "ipython3",
   "version": "3.9.12"
  }
 },
 "nbformat": 4,
 "nbformat_minor": 5
}
